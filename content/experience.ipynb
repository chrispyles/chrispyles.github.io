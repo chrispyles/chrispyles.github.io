{
 "cells": [
  {
   "cell_type": "markdown",
   "metadata": {},
   "source": [
    "# Experience\n",
    "\n",
    "## Student Assistant\n",
    "_UC Berkeley Summer Sessions, September 2017 - Present_\n",
    "\n",
    "As a student assistant, customer service skills are at the crux of my responsibilities. I interact with all of the students who need assistance from the Student Services team, and so I need to effectively work with others, and be able to help alleviate the concerns of others, give information regarding different aspects of summer courses, and perform basic office tasks. I am also involved in training and developing materials for new student assistants. Most of the training materials that we use now were curated or written by me.\n",
    "\n",
    "## Auditorium Operator\n",
    "_UC Berkeley Educational Technology Services, January 2018 - May 2018_\n",
    "\n",
    "As an auditorium operator, I operated the camera, audio, and other technical equipment in order to facilitate the effect running of a large (700+ person) lecture. I also interacted with the professors of the courses in order to understand what they need for the lecture, and to deliver information about the auditorium if it is needed. This is another position in which customer service skills are essential, since most of my interactions with the professors occur when there are technical difficulties. It was in this capacity that I sat in on the Data 8 lectures in Spring 2018 and discovered my interest in the field, which sparked the desire to change my Applied Maths focus to the subject.\n",
    "\n",
    "## Cast Member\n",
    "_Regal Civic Center 16 & IMAX, October 2015 - December 2017_\n",
    "\n",
    "As a cast member at Regal, I developed most of my customer service skills by interacting with many guests (the average attendance on the weekends was 3,500 guests per day). I assisted guests with purchases, directions, and other issues; in fact, I dealt with many power outage issues, including handling guest service (refunds, swaps, etc.) and bringing projection back online after a blackout. During my time at Regal, I took on many responsibilities outside the scope of my job description, routinely handling projects that I volunteered for in order to learn ore about operations; I even learned how to operate projection, normally a function of management. Lastly, I was the person most frequently called upon to train new hires."
   ]
  }
 ],
 "metadata": {
  "kernelspec": {
   "display_name": "Python 3",
   "language": "python",
   "name": "python3"
  },
  "language_info": {
   "codemirror_mode": {
    "name": "ipython",
    "version": 3
   },
   "file_extension": ".py",
   "mimetype": "text/x-python",
   "name": "python",
   "nbconvert_exporter": "python",
   "pygments_lexer": "ipython3",
   "version": "3.6.5"
  }
 },
 "nbformat": 4,
 "nbformat_minor": 2
}
