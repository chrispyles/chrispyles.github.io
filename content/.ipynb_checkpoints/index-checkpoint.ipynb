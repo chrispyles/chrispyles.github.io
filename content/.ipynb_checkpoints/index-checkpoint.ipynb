{
 "cells": [
  {
   "cell_type": "code",
   "execution_count": 2,
   "metadata": {},
   "outputs": [],
   "source": [
    "# HIDDEN\n",
    "from IPython.display import IFrame"
   ]
  },
  {
   "cell_type": "markdown",
   "metadata": {},
   "source": [
    "# About Me\n",
    "I am currently in my second year at UC Berkeley, pursuing an Applied Maths BA with a focus in Data Science. I am an Eagle Scout, and the dedication that allowed me to achieve that rank has also allowed me to hold down a job to help put myself through college and to work hard enough in high school that I will graduate college in only 3 years. For a long time, I did not have the foggiest idea of what I wanted to do after college, but then I found data science, the niche that falls between my love of mathematics and my (relatively new) interest in computing. I also love that data science is so widely applicable that I can go into any field that interests me and be able to do impactful work.\n",
    "\n",
    "## Resume\n",
    "<!-- <iframe src=\"https://docs.google.com/a/bpsk12.org/file/d/1G11GZ9oGzYGSxMu1J7SAD6Nx-d-IZX0s/preview\" width=\"100%\" height=\"600\"></iframe> -->"
   ]
  },
  {
   "cell_type": "code",
   "execution_count": 5,
   "metadata": {},
   "outputs": [
    {
     "data": {
      "text/html": [
       "\n",
       "        <iframe\n",
       "            width=\"100%\"\n",
       "            height=\"600\"\n",
       "            src=\"https://docs.google.com/a/bpsk12.org/file/d/1G11GZ9oGzYGSxMu1J7SAD6Nx-d-IZX0s/preview\"\n",
       "            frameborder=\"0\"\n",
       "            allowfullscreen\n",
       "        ></iframe>\n",
       "        "
      ],
      "text/plain": [
       "<IPython.lib.display.IFrame at 0x10887b9b0>"
      ]
     },
     "execution_count": 5,
     "metadata": {},
     "output_type": "execute_result"
    }
   ],
   "source": [
    "# NO CODE\n",
    "IFrame(\"https://docs.google.com/a/bpsk12.org/file/d/1G11GZ9oGzYGSxMu1J7SAD6Nx-d-IZX0s/preview\", \"100%\", 600)"
   ]
  },
  {
   "cell_type": "code",
   "execution_count": null,
   "metadata": {},
   "outputs": [],
   "source": []
  }
 ],
 "metadata": {
  "kernelspec": {
   "display_name": "Python 3",
   "language": "python",
   "name": "python3"
  },
  "language_info": {
   "codemirror_mode": {
    "name": "ipython",
    "version": 3
   },
   "file_extension": ".py",
   "mimetype": "text/x-python",
   "name": "python",
   "nbconvert_exporter": "python",
   "pygments_lexer": "ipython3",
   "version": "3.6.5"
  }
 },
 "nbformat": 4,
 "nbformat_minor": 2
}
