{
 "cells": [
  {
   "cell_type": "markdown",
   "metadata": {},
   "source": [
    "# SQL Demos\n",
    "Notebook by Chris Pyles, data from Lahman Baseball Dataset"
   ]
  },
  {
   "cell_type": "code",
   "execution_count": null,
   "metadata": {},
   "outputs": [],
   "source": [
    "import sqlite3\n",
    "\n",
    "import pandas as pd\n",
    "from sqlalchemy import create_engine\n",
    "\n",
    "db = sqlite3.connect(\"./lahman2016.sqlite\")"
   ]
  },
  {
   "cell_type": "markdown",
   "metadata": {},
   "source": [
    "look at structure of database"
   ]
  },
  {
   "cell_type": "code",
   "execution_count": null,
   "metadata": {
    "scrolled": false
   },
   "outputs": [],
   "source": [
    "query = \"\"\"\n",
    "SELECT * FROM sqlite_master WHERE type = 'table'\n",
    "\"\"\"\n",
    "pd.read_sql(query, db)"
   ]
  },
  {
   "cell_type": "markdown",
   "metadata": {},
   "source": [
    "look at years of dataset"
   ]
  },
  {
   "cell_type": "code",
   "execution_count": null,
   "metadata": {},
   "outputs": [],
   "source": [
    "query = \"\"\"\n",
    "SELECT DISTINCT yearid FROM salaries\n",
    "\"\"\"\n",
    "pd.read_sql(query, db).T     # transpose to make it look nicer"
   ]
  },
  {
   "cell_type": "markdown",
   "metadata": {},
   "source": [
    "average salary of hall of famers  in each year in the 5 years with the highest average salaries"
   ]
  },
  {
   "cell_type": "code",
   "execution_count": null,
   "metadata": {},
   "outputs": [],
   "source": [
    "query = \"\"\"\n",
    "SELECT s.yearid, AVG(salary) AS avg_salary\n",
    "FROM salaries s\n",
    "JOIN halloffame h\n",
    "ON s.playerid = h.playerid\n",
    "WHERE h.inducted = 'Y'\n",
    "GROUP BY s.yearid\n",
    "ORDER BY avg_salary DESC\n",
    "LIMIT 5\n",
    "\"\"\"\n",
    "pd.read_sql(query, db)"
   ]
  },
  {
   "cell_type": "markdown",
   "metadata": {},
   "source": [
    "calculate slugging percentage of players with more than 50 at-bats:\n",
    "\n",
    "$$\\Large\n",
    "SLG = \\frac{H + 2B + 2 \\cdot 3B + 3 \\cdot 4B}{AB}\n",
    "$$\n",
    "\n",
    "(this is a modified formula because `H` is all hits, not just singles)"
   ]
  },
  {
   "cell_type": "code",
   "execution_count": null,
   "metadata": {},
   "outputs": [],
   "source": [
    "db.execute(\"DROP VIEW IF EXISTS slg\")\n",
    "\n",
    "db.execute(\"\"\"\n",
    "CREATE VIEW slg(playerid, yearid, slg) AS\n",
    "SELECT playerid, yearid, (CAST(H AS FLOAT) + '2B' + 2 * '3B' + 3 * HR) / AB\n",
    "FROM batting\n",
    "WHERE AB > 50;\n",
    "\"\"\")\n",
    "\n",
    "query = \"\"\"\n",
    "SELECT * FROM slg;\n",
    "\"\"\"\n",
    "pd.read_sql(query, db).head()"
   ]
  },
  {
   "cell_type": "markdown",
   "metadata": {},
   "source": [
    "schools whose players have highest salaries (top 10, names only)"
   ]
  },
  {
   "cell_type": "code",
   "execution_count": null,
   "metadata": {},
   "outputs": [],
   "source": [
    "query = \"\"\"\n",
    "SELECT name_full\n",
    "FROM schools c\n",
    "JOIN (\n",
    "    SELECT schoolid, AVG(salary) AS salary\n",
    "    FROM collegeplaying c\n",
    "    JOIN (\n",
    "        SELECT playerid, AVG(salary) AS salary\n",
    "        FROM salaries\n",
    "        GROUP BY playerid\n",
    "    ) AS s\n",
    "    ON c.playerid = s.playerid\n",
    "    GROUP BY schoolid\n",
    ") AS s\n",
    "ON c.schoolid = s.schoolid\n",
    "ORDER BY s.salary DESC\n",
    "LIMIT 10\n",
    "\"\"\"\n",
    "pd.read_sql(query, db).head()"
   ]
  },
  {
   "cell_type": "markdown",
   "metadata": {},
   "source": [
    "what is the YoY percent change in average salary?"
   ]
  },
  {
   "cell_type": "code",
   "execution_count": null,
   "metadata": {
    "scrolled": true
   },
   "outputs": [],
   "source": [
    "query = \"\"\"\n",
    "SELECT y2.yearid, (y2.salary - y1.salary) / y1.salary \n",
    "FROM (\n",
    "    SELECT yearid, AVG(salary) AS salary\n",
    "    FROM salaries\n",
    "    GROUP BY yearid\n",
    "    HAVING yearid != (\n",
    "        SELECT MIN(yearid)\n",
    "        FROM salaries\n",
    "    )\n",
    ") AS y1 \n",
    "JOIN (\n",
    "    SELECT yearid, AVG(salary) AS salary\n",
    "    FROM salaries\n",
    "    GROUP BY yearid\n",
    "    HAVING yearid != (\n",
    "        SELECT MAX(yearid)\n",
    "        FROM salaries\n",
    "    )\n",
    ") AS y2\n",
    "ON y1.yearid = y2.yearid - 1\n",
    "\"\"\"\n",
    "pd.read_sql(query, db).head()"
   ]
  }
 ],
 "metadata": {
  "kernelspec": {
   "display_name": "Python 3",
   "language": "python",
   "name": "python3"
  },
  "language_info": {
   "codemirror_mode": {
    "name": "ipython",
    "version": 3
   },
   "file_extension": ".py",
   "mimetype": "text/x-python",
   "name": "python",
   "nbconvert_exporter": "python",
   "pygments_lexer": "ipython3",
   "version": "3.6.5"
  },
  "varInspector": {
   "cols": {
    "lenName": 16,
    "lenType": 16,
    "lenVar": 40
   },
   "kernels_config": {
    "python": {
     "delete_cmd_postfix": "",
     "delete_cmd_prefix": "del ",
     "library": "var_list.py",
     "varRefreshCmd": "print(var_dic_list())"
    },
    "r": {
     "delete_cmd_postfix": ") ",
     "delete_cmd_prefix": "rm(",
     "library": "var_list.r",
     "varRefreshCmd": "cat(var_dic_list()) "
    }
   },
   "types_to_exclude": [
    "module",
    "function",
    "builtin_function_or_method",
    "instance",
    "_Feature"
   ],
   "window_display": false
  }
 },
 "nbformat": 4,
 "nbformat_minor": 2
}
