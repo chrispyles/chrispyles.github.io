{
 "cells": [
  {
   "cell_type": "markdown",
   "metadata": {
    "heading_collapsed": true,
    "slideshow": {
     "slide_type": "slide"
    }
   },
   "source": [
    "# Regexes"
   ]
  },
  {
   "cell_type": "code",
   "execution_count": null,
   "metadata": {
    "hidden": true,
    "slideshow": {
     "slide_type": "skip"
    }
   },
   "outputs": [],
   "source": [
    "import re\n",
    "import pandas as pd"
   ]
  },
  {
   "cell_type": "markdown",
   "metadata": {
    "hidden": true,
    "slideshow": {
     "slide_type": "subslide"
    }
   },
   "source": [
    "Regexes are an important tool for handling text data that work by using special characters to represent patterns of characters within strings. You should be familiar with all of the symbols and character classes below:\n",
    "\n",
    "![Regex Cheat Sheet](regex-cheat-sheet.jpg)\n",
    "\n",
    "Because this was covered in lecture, we'll focus on a few important concepts about regexes can trip people up."
   ]
  },
  {
   "cell_type": "markdown",
   "metadata": {
    "hidden": true,
    "slideshow": {
     "slide_type": "slide"
    }
   },
   "source": [
    "## Greedy vs. Non-Greedy Matching\n",
    "\n",
    "One important thing that is not included in the graphic is the second meaning of the `?` character. `?` can also make any quantifier placed before it \"non-greedy.\" By default, regex quantifiers (`*`, `+`, etc.) are greedy, meaning that they will take up as many characters as possible while still matching their pattern. Adding the `?` quantifier after another quantifier makes it non-greedy, so that it will take up as few characters as possible. Consider the following sentence:\n",
    "\n",
    "```\n",
    "Lisa, the neighborhood dog-walker, walks all the dogs whose owners don't walk them.\n",
    "```"
   ]
  },
  {
   "cell_type": "markdown",
   "metadata": {
    "hidden": true,
    "slideshow": {
     "slide_type": "slide"
    }
   },
   "source": [
    "Now let's consider two regexes: `[A-Z].*,` and `[A-Z].*?,`. This regex will look for a capital letter (`[A-Z]`), any number of non-line break characters (`.*`), and a comma, in that order. The second one has the `?` quantifier after the `*` quantifier, so it will match non-greedily. Let's compare the greedy and non-greedy matches:"
   ]
  },
  {
   "cell_type": "code",
   "execution_count": 69,
   "metadata": {
    "hidden": true,
    "slideshow": {
     "slide_type": "fragment"
    }
   },
   "outputs": [
    {
     "name": "stdout",
     "output_type": "stream",
     "text": [
      "Greedy regex match:  Lisa, the neighborhood dog-walker,\n",
      "Non-greedy regex match:  Lisa,\n"
     ]
    }
   ],
   "source": [
    "lisa = \"Lisa, the neighborhood dog-walker, walks all the dogs whose owners don't walk them.\"\n",
    "\n",
    "greedy_regex = r\"[A-Z].*,\"\n",
    "nongreedy_regex = r\"[A-Z].*?,\"\n",
    "\n",
    "print(\"Greedy regex match: \", re.search(greedy_regex, lisa)[0])\n",
    "print(\"Non-greedy regex match: \", re.search(nongreedy_regex, lisa)[0])"
   ]
  },
  {
   "cell_type": "markdown",
   "metadata": {
    "hidden": true,
    "slideshow": {
     "slide_type": "subslide"
    }
   },
   "source": [
    "Because of greedy matching, the first regex matched `Lisa, the neighborhood dog-walker,`, using as many characters as possible to still match the pattern. Because of the `?` quantifier, however, the second one matched only `Lisa,`. As you can see, we could still have matched more characters in the sentence, but the `?` quantifier forced our `*` quantifier to match non-greedily."
   ]
  },
  {
   "cell_type": "markdown",
   "metadata": {
    "hidden": true,
    "slideshow": {
     "slide_type": "slide"
    }
   },
   "source": [
    "**Quick Check:** Which of the following regexes will match the shortest sequence of characters in the sentence below? (Note: In regexes, `^`, when not inside brackets, matches the start of a line and `$` the end of a line.)\n",
    "\n",
    "```\n",
    "\"No,\" said Harvey, \"we can't get them to stop. They won't listen to us for some reason.\"\n",
    "```\n",
    "\n",
    "1. `\"[A-Z].*$`\n",
    "2. `'\\w+'`\n",
    "3. `,.*?'`\n",
    "4. `'.*$`"
   ]
  },
  {
   "cell_type": "code",
   "execution_count": 70,
   "metadata": {
    "hidden": true,
    "slideshow": {
     "slide_type": "subslide"
    }
   },
   "outputs": [
    {
     "name": "stdout",
     "output_type": "stream",
     "text": [
      "\"[A-Z].*$ matched: \"No,\" said Harvey, \"we can't get them to stop. They won't listen to us for some reason.\"\n",
      "'.+' matched: 't get them to stop. They won'\n",
      ",.*?' matched: ,\" said Harvey, \"we can'\n",
      "'.*$ matched: 't get them to stop. They won't listen to us for some reason.\"\n",
      "\n",
      "Regex with shortest match:  3\n"
     ]
    }
   ],
   "source": [
    "harvey = \"\\\"No,\\\" said Harvey, \\\"we can't get them to stop. They won't listen to us for some reason.\\\"\"\n",
    "\n",
    "r1 = r'\"[A-Z].*$'\n",
    "r2 = r\"'.+'\"\n",
    "r3 = r\",.*?'\"\n",
    "r4 = r\"'.*$\"\n",
    "\n",
    "lengths = []\n",
    "for r in [r1, r2, r3, r4]:\n",
    "    match = re.search(r, harvey)\n",
    "    print(f\"{r} matched: {match[0]}\")\n",
    "    lengths += [len(match[0])]\n",
    "    \n",
    "print(\"\\nRegex with shortest match: \", np.argmin(lengths) + 1)"
   ]
  },
  {
   "cell_type": "markdown",
   "metadata": {
    "hidden": true,
    "slideshow": {
     "slide_type": "slide"
    }
   },
   "source": [
    "## Escaping\n",
    "\n",
    "An important concept in regexes is how to \"escape\" a character. Let's say that you want to match the `*` character literally in a string; the regex `*` won't work because the regex engine interprets `*` as a quantifier. For this reason, regexes provide an escape character, `\\`, that, when placed before another special character in a regex, causes the pattern to match to that character literal rather than the pattern that it represents. To match the `*` character, we would use `\\*`."
   ]
  },
  {
   "cell_type": "markdown",
   "metadata": {
    "hidden": true,
    "slideshow": {
     "slide_type": "slide"
    }
   },
   "source": [
    "**Quick Check:** Which regex(es) below will match the `\\` character?\n",
    "\n",
    "1. `\\\\`\n",
    "2. `\\s`\n",
    "3. `\\w`\n",
    "4. `\\W`"
   ]
  },
  {
   "cell_type": "code",
   "execution_count": 71,
   "metadata": {
    "hidden": true,
    "slideshow": {
     "slide_type": "fragment"
    }
   },
   "outputs": [
    {
     "name": "stdout",
     "output_type": "stream",
     "text": [
      "\\\\\n",
      "\\W\n"
     ]
    }
   ],
   "source": [
    "for r in [r\"\\\\\", r\"\\s\", r\"\\w\", r\"\\W\"]:\n",
    "    if re.search(r, \"\\\\\"):\n",
    "        print(r)"
   ]
  },
  {
   "cell_type": "markdown",
   "metadata": {
    "hidden": true,
    "slideshow": {
     "slide_type": "subslide"
    }
   },
   "source": [
    "_Python note:_ Notice in the string in the `if` statement above, I needed to escape the `\\`. This is because Python strings also use special characters and character classes (e.g. `\\n`, `\\t`) and so Python would have interpreted `\"\\\"` as an unfinished string, because the `\\\"` is interpreted as the `\"` character literal, rather than the boundary of a string. You can see this at work in the cell below:"
   ]
  },
  {
   "cell_type": "code",
   "execution_count": 72,
   "metadata": {
    "hidden": true
   },
   "outputs": [
    {
     "name": "stdout",
     "output_type": "stream",
     "text": [
      "\"\n"
     ]
    }
   ],
   "source": [
    "# this will work\n",
    "print(\"\\\"\")"
   ]
  },
  {
   "cell_type": "code",
   "execution_count": 73,
   "metadata": {
    "hidden": true
   },
   "outputs": [
    {
     "ename": "SyntaxError",
     "evalue": "EOL while scanning string literal (<ipython-input-73-84d07ffcecbf>, line 2)",
     "output_type": "error",
     "traceback": [
      "\u001b[0;36m  File \u001b[0;32m\"<ipython-input-73-84d07ffcecbf>\"\u001b[0;36m, line \u001b[0;32m2\u001b[0m\n\u001b[0;31m    print(\"\\\")\u001b[0m\n\u001b[0m              ^\u001b[0m\n\u001b[0;31mSyntaxError\u001b[0m\u001b[0;31m:\u001b[0m EOL while scanning string literal\n"
     ]
    }
   ],
   "source": [
    "# this will error\n",
    "print(\"\\\")"
   ]
  },
  {
   "cell_type": "markdown",
   "metadata": {
    "slideshow": {
     "slide_type": "slide"
    }
   },
   "source": [
    "# Worksheet: String, Group, Joining Operations in Pandas\n",
    "\n",
    "We will continue discussion of [Pandas](https://pandas.pydata.org/). In this discussion, you will learn about:\n",
    "\n",
    "* String operations\n",
    "* Groupby \n",
    "* Joining DataFrames"
   ]
  },
  {
   "cell_type": "code",
   "execution_count": 74,
   "metadata": {
    "slideshow": {
     "slide_type": "skip"
    }
   },
   "outputs": [
    {
     "data": {
      "text/html": [
       "<div>\n",
       "<style scoped>\n",
       "    .dataframe tbody tr th:only-of-type {\n",
       "        vertical-align: middle;\n",
       "    }\n",
       "\n",
       "    .dataframe tbody tr th {\n",
       "        vertical-align: top;\n",
       "    }\n",
       "\n",
       "    .dataframe thead th {\n",
       "        text-align: right;\n",
       "    }\n",
       "</style>\n",
       "<table border=\"1\" class=\"dataframe\">\n",
       "  <thead>\n",
       "    <tr style=\"text-align: right;\">\n",
       "      <th></th>\n",
       "      <th>State</th>\n",
       "      <th>Sex</th>\n",
       "      <th>Year</th>\n",
       "      <th>Name</th>\n",
       "      <th>Count</th>\n",
       "    </tr>\n",
       "  </thead>\n",
       "  <tbody>\n",
       "    <tr>\n",
       "      <th>0</th>\n",
       "      <td>CA</td>\n",
       "      <td>F</td>\n",
       "      <td>1910</td>\n",
       "      <td>Mary</td>\n",
       "      <td>295</td>\n",
       "    </tr>\n",
       "    <tr>\n",
       "      <th>1</th>\n",
       "      <td>CA</td>\n",
       "      <td>F</td>\n",
       "      <td>1910</td>\n",
       "      <td>Helen</td>\n",
       "      <td>239</td>\n",
       "    </tr>\n",
       "    <tr>\n",
       "      <th>2</th>\n",
       "      <td>CA</td>\n",
       "      <td>F</td>\n",
       "      <td>1910</td>\n",
       "      <td>Dorothy</td>\n",
       "      <td>220</td>\n",
       "    </tr>\n",
       "    <tr>\n",
       "      <th>3</th>\n",
       "      <td>CA</td>\n",
       "      <td>F</td>\n",
       "      <td>1910</td>\n",
       "      <td>Margaret</td>\n",
       "      <td>163</td>\n",
       "    </tr>\n",
       "    <tr>\n",
       "      <th>4</th>\n",
       "      <td>CA</td>\n",
       "      <td>F</td>\n",
       "      <td>1910</td>\n",
       "      <td>Frances</td>\n",
       "      <td>134</td>\n",
       "    </tr>\n",
       "  </tbody>\n",
       "</table>\n",
       "</div>"
      ],
      "text/plain": [
       "  State Sex  Year      Name  Count\n",
       "0    CA   F  1910      Mary    295\n",
       "1    CA   F  1910     Helen    239\n",
       "2    CA   F  1910   Dorothy    220\n",
       "3    CA   F  1910  Margaret    163\n",
       "4    CA   F  1910   Frances    134"
      ]
     },
     "execution_count": 74,
     "metadata": {},
     "output_type": "execute_result"
    }
   ],
   "source": [
    "import numpy as np\n",
    "import matplotlib.pyplot as plt\n",
    "import pandas as pd\n",
    "import requests\n",
    "import zipfile\n",
    "from pathlib import Path\n",
    "%matplotlib inline\n",
    "\n",
    "import urllib.request\n",
    "import os.path\n",
    "import zipfile\n",
    "\n",
    "# data_url = \"https://www.ssa.gov/oact/babynames/state/namesbystate.zip\"\n",
    "local_filename = \"babynamesbystate.zip\"\n",
    "# if not os.path.exists(local_filename): # if the data exists don't download again\n",
    "#     with urllib.request.urlopen(data_url) as resp, open(local_filename, 'wb') as f:\n",
    "#         f.write(resp.read())\n",
    "\n",
    "zf = zipfile.ZipFile(local_filename, 'r')\n",
    "\n",
    "ca_name = 'CA.TXT'\n",
    "field_names = ['State', 'Sex', 'Year', 'Name', 'Count']\n",
    "with zf.open(ca_name) as fh:\n",
    "    babynames = pd.read_csv(fh, header=None, names=field_names)\n",
    "\n",
    "babynames.head(5)"
   ]
  },
  {
   "cell_type": "code",
   "execution_count": null,
   "metadata": {
    "slideshow": {
     "slide_type": "skip"
    }
   },
   "outputs": [],
   "source": [
    "elections = pd.read_csv(\"elections.csv\")\n",
    "elections.head(5)"
   ]
  },
  {
   "cell_type": "markdown",
   "metadata": {
    "nbgrader": {
     "grade": false,
     "grade_id": "cell-9da361c599b91549",
     "locked": true,
     "schema_version": 2,
     "solution": false
    },
    "slideshow": {
     "slide_type": "slide"
    }
   },
   "source": [
    "### Question 1: Grouping Multiple Columns\n",
    "\n",
    "Which of the following lines of code will output the following dataframe? Write your answer (hard-coded) as either 1, 2, 3, or 4. Recall that the arguments to `pd.pivot_table` are as follows: `data` is the input dataframe, `index` includes the values we use as rows, `columns` are the columns of the pivot table, `values` are the values in the pivot table, and `aggfunc` is the aggregation function that we use to aggregate `values`."
   ]
  },
  {
   "attachments": {
    "question3.png": {
     "image/png": "[encoded data removed]"
    }
   },
   "cell_type": "markdown",
   "metadata": {},
   "source": [
    "![question3.png](attachment:question3.png)"
   ]
  },
  {
   "cell_type": "markdown",
   "metadata": {
    "nbgrader": {
     "grade": false,
     "grade_id": "cell-9eff56db29d96e0e",
     "locked": true,
     "schema_version": 2,
     "solution": false
    }
   },
   "source": [
    "1) `pd.pivot_table(data=winners_only, index='Party', columns='Result', values='%', aggfunc=np.mean)`\n",
    "\n",
    "2) `winners_only.groupby(['Party', 'Result'])['%'].mean()`\n",
    "\n",
    "3) `pd.pivot_table(data=winners_only, index='Result', columns='Party', values='%', aggfunc=np.mean)`\n",
    "\n",
    "4) `winners_only.groupby('%')[['Party', 'Result']].mean()`"
   ]
  },
  {
   "cell_type": "markdown",
   "metadata": {
    "slideshow": {
     "slide_type": "fragment"
    }
   },
   "source": [
    "**SOLUTION:**\n",
    "1"
   ]
  },
  {
   "cell_type": "markdown",
   "metadata": {
    "slideshow": {
     "slide_type": "slide"
    }
   },
   "source": [
    "### Question 1b"
   ]
  },
  {
   "cell_type": "markdown",
   "metadata": {},
   "source": [
    "Consider the output of the `groupby.sum()` call below. Note that the resulting DataFrame is multi-indexed."
   ]
  },
  {
   "cell_type": "code",
   "execution_count": 76,
   "metadata": {},
   "outputs": [
    {
     "data": {
      "text/html": [
       "<div>\n",
       "<style scoped>\n",
       "    .dataframe tbody tr th:only-of-type {\n",
       "        vertical-align: middle;\n",
       "    }\n",
       "\n",
       "    .dataframe tbody tr th {\n",
       "        vertical-align: top;\n",
       "    }\n",
       "\n",
       "    .dataframe thead th {\n",
       "        text-align: right;\n",
       "    }\n",
       "</style>\n",
       "<table border=\"1\" class=\"dataframe\">\n",
       "  <thead>\n",
       "    <tr style=\"text-align: right;\">\n",
       "      <th></th>\n",
       "      <th></th>\n",
       "      <th>Count</th>\n",
       "    </tr>\n",
       "    <tr>\n",
       "      <th>Name</th>\n",
       "      <th>Year</th>\n",
       "      <th></th>\n",
       "    </tr>\n",
       "  </thead>\n",
       "  <tbody>\n",
       "    <tr>\n",
       "      <th rowspan=\"3\" valign=\"top\">Aadan</th>\n",
       "      <th>2008</th>\n",
       "      <td>7</td>\n",
       "    </tr>\n",
       "    <tr>\n",
       "      <th>2009</th>\n",
       "      <td>6</td>\n",
       "    </tr>\n",
       "    <tr>\n",
       "      <th>2014</th>\n",
       "      <td>5</td>\n",
       "    </tr>\n",
       "    <tr>\n",
       "      <th rowspan=\"6\" valign=\"top\">Aaden</th>\n",
       "      <th>2007</th>\n",
       "      <td>20</td>\n",
       "    </tr>\n",
       "    <tr>\n",
       "      <th>2008</th>\n",
       "      <td>135</td>\n",
       "    </tr>\n",
       "    <tr>\n",
       "      <th>2009</th>\n",
       "      <td>158</td>\n",
       "    </tr>\n",
       "    <tr>\n",
       "      <th>2010</th>\n",
       "      <td>62</td>\n",
       "    </tr>\n",
       "    <tr>\n",
       "      <th>2011</th>\n",
       "      <td>39</td>\n",
       "    </tr>\n",
       "    <tr>\n",
       "      <th>2012</th>\n",
       "      <td>38</td>\n",
       "    </tr>\n",
       "  </tbody>\n",
       "</table>\n",
       "</div>"
      ],
      "text/plain": [
       "            Count\n",
       "Name  Year       \n",
       "Aadan 2008      7\n",
       "      2009      6\n",
       "      2014      5\n",
       "Aaden 2007     20\n",
       "      2008    135\n",
       "      2009    158\n",
       "      2010     62\n",
       "      2011     39\n",
       "      2012     38"
      ]
     },
     "execution_count": 76,
     "metadata": {},
     "output_type": "execute_result"
    }
   ],
   "source": [
    "name_counts_since_1940 = babynames[babynames[\"Year\"] >= 1940].groupby([\"Name\", \"Year\"]).sum()\n",
    "name_counts_since_1940.head(9)"
   ]
  },
  {
   "cell_type": "markdown",
   "metadata": {
    "slideshow": {
     "slide_type": "fragment"
    }
   },
   "source": [
    "Multi-indexed DataFrames can be a little confusing at first, but the ideas for using loc generalize pretty naturally. Examples below:"
   ]
  },
  {
   "cell_type": "code",
   "execution_count": 77,
   "metadata": {},
   "outputs": [
    {
     "data": {
      "text/html": [
       "<div>\n",
       "<style scoped>\n",
       "    .dataframe tbody tr th:only-of-type {\n",
       "        vertical-align: middle;\n",
       "    }\n",
       "\n",
       "    .dataframe tbody tr th {\n",
       "        vertical-align: top;\n",
       "    }\n",
       "\n",
       "    .dataframe thead tr th {\n",
       "        text-align: left;\n",
       "    }\n",
       "</style>\n",
       "<table border=\"1\" class=\"dataframe\">\n",
       "  <thead>\n",
       "    <tr>\n",
       "      <th>Name</th>\n",
       "      <th colspan=\"8\" halign=\"left\">Aaiden</th>\n",
       "      <th>Aaira</th>\n",
       "      <th>Aairah</th>\n",
       "      <th>...</th>\n",
       "      <th colspan=\"10\" halign=\"left\">Aakash</th>\n",
       "    </tr>\n",
       "    <tr>\n",
       "      <th>Year</th>\n",
       "      <th>2009</th>\n",
       "      <th>2010</th>\n",
       "      <th>2011</th>\n",
       "      <th>2013</th>\n",
       "      <th>2014</th>\n",
       "      <th>2015</th>\n",
       "      <th>2016</th>\n",
       "      <th>2017</th>\n",
       "      <th>2018</th>\n",
       "      <th>2017</th>\n",
       "      <th>...</th>\n",
       "      <th>2004</th>\n",
       "      <th>2006</th>\n",
       "      <th>2007</th>\n",
       "      <th>2008</th>\n",
       "      <th>2009</th>\n",
       "      <th>2010</th>\n",
       "      <th>2011</th>\n",
       "      <th>2012</th>\n",
       "      <th>2013</th>\n",
       "      <th>2014</th>\n",
       "    </tr>\n",
       "  </thead>\n",
       "  <tbody>\n",
       "    <tr>\n",
       "      <th>Count</th>\n",
       "      <td>11</td>\n",
       "      <td>11</td>\n",
       "      <td>8</td>\n",
       "      <td>13</td>\n",
       "      <td>12</td>\n",
       "      <td>13</td>\n",
       "      <td>12</td>\n",
       "      <td>12</td>\n",
       "      <td>6</td>\n",
       "      <td>5</td>\n",
       "      <td>...</td>\n",
       "      <td>8</td>\n",
       "      <td>5</td>\n",
       "      <td>7</td>\n",
       "      <td>5</td>\n",
       "      <td>8</td>\n",
       "      <td>6</td>\n",
       "      <td>8</td>\n",
       "      <td>8</td>\n",
       "      <td>6</td>\n",
       "      <td>8</td>\n",
       "    </tr>\n",
       "  </tbody>\n",
       "</table>\n",
       "<p>1 rows × 30 columns</p>\n",
       "</div>"
      ],
      "text/plain": [
       "Name  Aaiden                                    Aaira Aairah ...  Aakash       \\\n",
       "Year    2009 2010 2011 2013 2014 2015 2016 2017  2018   2017 ...    2004 2006   \n",
       "Count     11   11    8   13   12   13   12   12     6      5 ...       8    5   \n",
       "\n",
       "Name                                           \n",
       "Year  2007 2008 2009 2010 2011 2012 2013 2014  \n",
       "Count    7    5    8    6    8    8    6    8  \n",
       "\n",
       "[1 rows x 30 columns]"
      ]
     },
     "execution_count": 77,
     "metadata": {},
     "output_type": "execute_result"
    }
   ],
   "source": [
    "name_counts_since_1940.loc['Aaiden':'Aakash'].T"
   ]
  },
  {
   "cell_type": "code",
   "execution_count": 78,
   "metadata": {},
   "outputs": [
    {
     "data": {
      "text/html": [
       "<div>\n",
       "<style scoped>\n",
       "    .dataframe tbody tr th:only-of-type {\n",
       "        vertical-align: middle;\n",
       "    }\n",
       "\n",
       "    .dataframe tbody tr th {\n",
       "        vertical-align: top;\n",
       "    }\n",
       "\n",
       "    .dataframe thead tr th {\n",
       "        text-align: left;\n",
       "    }\n",
       "</style>\n",
       "<table border=\"1\" class=\"dataframe\">\n",
       "  <thead>\n",
       "    <tr>\n",
       "      <th>Name</th>\n",
       "      <th colspan=\"6\" halign=\"left\">Aaiden</th>\n",
       "      <th>Aaira</th>\n",
       "      <th>Aairah</th>\n",
       "      <th colspan=\"7\" halign=\"left\">Aakash</th>\n",
       "    </tr>\n",
       "    <tr>\n",
       "      <th>Year</th>\n",
       "      <th>2011</th>\n",
       "      <th>2013</th>\n",
       "      <th>2014</th>\n",
       "      <th>2015</th>\n",
       "      <th>2016</th>\n",
       "      <th>2017</th>\n",
       "      <th>2018</th>\n",
       "      <th>2017</th>\n",
       "      <th>1991</th>\n",
       "      <th>1992</th>\n",
       "      <th>1994</th>\n",
       "      <th>1995</th>\n",
       "      <th>1997</th>\n",
       "      <th>1998</th>\n",
       "      <th>2000</th>\n",
       "    </tr>\n",
       "  </thead>\n",
       "  <tbody>\n",
       "    <tr>\n",
       "      <th>Count</th>\n",
       "      <td>8</td>\n",
       "      <td>13</td>\n",
       "      <td>12</td>\n",
       "      <td>13</td>\n",
       "      <td>12</td>\n",
       "      <td>12</td>\n",
       "      <td>6</td>\n",
       "      <td>5</td>\n",
       "      <td>5</td>\n",
       "      <td>9</td>\n",
       "      <td>10</td>\n",
       "      <td>6</td>\n",
       "      <td>5</td>\n",
       "      <td>8</td>\n",
       "      <td>6</td>\n",
       "    </tr>\n",
       "  </tbody>\n",
       "</table>\n",
       "</div>"
      ],
      "text/plain": [
       "Name  Aaiden                          Aaira Aairah Aakash                      \\\n",
       "Year    2011 2013 2014 2015 2016 2017  2018   2017   1991 1992 1994 1995 1997   \n",
       "Count      8   13   12   13   12   12     6      5      5    9   10    6    5   \n",
       "\n",
       "Name             \n",
       "Year  1998 2000  \n",
       "Count    8    6  "
      ]
     },
     "execution_count": 78,
     "metadata": {},
     "output_type": "execute_result"
    }
   ],
   "source": [
    "#Use both indices\n",
    "name_counts_since_1940.loc[(\"Aaiden\", 2011):(\"Aakash\", 2000)].T"
   ]
  },
  {
   "cell_type": "markdown",
   "metadata": {
    "slideshow": {
     "slide_type": "subslide"
    }
   },
   "source": [
    "Using `name_counts_since_1940`, set `imani_2013_count` equal to the number of babies born with the name 'Imani' in the year 2013. You may use either `.loc`. or `.query`. Make sure you're returning a value and not a Series or DataFrame"
   ]
  },
  {
   "cell_type": "code",
   "execution_count": null,
   "metadata": {},
   "outputs": [],
   "source": [
    "imani_2013_count = ..."
   ]
  },
  {
   "cell_type": "code",
   "execution_count": 79,
   "metadata": {
    "slideshow": {
     "slide_type": "fragment"
    }
   },
   "outputs": [
    {
     "data": {
      "text/plain": [
       "47"
      ]
     },
     "execution_count": 79,
     "metadata": {},
     "output_type": "execute_result"
    }
   ],
   "source": [
    "## Solution ##\n",
    "imani_2013_count = name_counts_since_1940.loc[(\"Imani\", 2013), 'Count']\n",
    "imani_2013_count"
   ]
  },
  {
   "cell_type": "markdown",
   "metadata": {
    "slideshow": {
     "slide_type": "subslide"
    }
   },
   "source": [
    "Note: Sometimes it's just useful to throw away the index and go back to having arbitrary numbers as an index. To do this, we use `reset_index()`."
   ]
  },
  {
   "cell_type": "code",
   "execution_count": 80,
   "metadata": {},
   "outputs": [
    {
     "data": {
      "text/html": [
       "<div>\n",
       "<style scoped>\n",
       "    .dataframe tbody tr th:only-of-type {\n",
       "        vertical-align: middle;\n",
       "    }\n",
       "\n",
       "    .dataframe tbody tr th {\n",
       "        vertical-align: top;\n",
       "    }\n",
       "\n",
       "    .dataframe thead th {\n",
       "        text-align: right;\n",
       "    }\n",
       "</style>\n",
       "<table border=\"1\" class=\"dataframe\">\n",
       "  <thead>\n",
       "    <tr style=\"text-align: right;\">\n",
       "      <th></th>\n",
       "      <th>Name</th>\n",
       "      <th>Year</th>\n",
       "      <th>Count</th>\n",
       "    </tr>\n",
       "  </thead>\n",
       "  <tbody>\n",
       "    <tr>\n",
       "      <th>0</th>\n",
       "      <td>Aadan</td>\n",
       "      <td>2008</td>\n",
       "      <td>7</td>\n",
       "    </tr>\n",
       "    <tr>\n",
       "      <th>1</th>\n",
       "      <td>Aadan</td>\n",
       "      <td>2009</td>\n",
       "      <td>6</td>\n",
       "    </tr>\n",
       "    <tr>\n",
       "      <th>2</th>\n",
       "      <td>Aadan</td>\n",
       "      <td>2014</td>\n",
       "      <td>5</td>\n",
       "    </tr>\n",
       "    <tr>\n",
       "      <th>3</th>\n",
       "      <td>Aaden</td>\n",
       "      <td>2007</td>\n",
       "      <td>20</td>\n",
       "    </tr>\n",
       "    <tr>\n",
       "      <th>4</th>\n",
       "      <td>Aaden</td>\n",
       "      <td>2008</td>\n",
       "      <td>135</td>\n",
       "    </tr>\n",
       "    <tr>\n",
       "      <th>5</th>\n",
       "      <td>Aaden</td>\n",
       "      <td>2009</td>\n",
       "      <td>158</td>\n",
       "    </tr>\n",
       "    <tr>\n",
       "      <th>6</th>\n",
       "      <td>Aaden</td>\n",
       "      <td>2010</td>\n",
       "      <td>62</td>\n",
       "    </tr>\n",
       "    <tr>\n",
       "      <th>7</th>\n",
       "      <td>Aaden</td>\n",
       "      <td>2011</td>\n",
       "      <td>39</td>\n",
       "    </tr>\n",
       "    <tr>\n",
       "      <th>8</th>\n",
       "      <td>Aaden</td>\n",
       "      <td>2012</td>\n",
       "      <td>38</td>\n",
       "    </tr>\n",
       "    <tr>\n",
       "      <th>9</th>\n",
       "      <td>Aaden</td>\n",
       "      <td>2013</td>\n",
       "      <td>29</td>\n",
       "    </tr>\n",
       "  </tbody>\n",
       "</table>\n",
       "</div>"
      ],
      "text/plain": [
       "    Name  Year  Count\n",
       "0  Aadan  2008      7\n",
       "1  Aadan  2009      6\n",
       "2  Aadan  2014      5\n",
       "3  Aaden  2007     20\n",
       "4  Aaden  2008    135\n",
       "5  Aaden  2009    158\n",
       "6  Aaden  2010     62\n",
       "7  Aaden  2011     39\n",
       "8  Aaden  2012     38\n",
       "9  Aaden  2013     29"
      ]
     },
     "execution_count": 80,
     "metadata": {},
     "output_type": "execute_result"
    }
   ],
   "source": [
    "name_counts_since_1940_numerical_index = name_counts_since_1940.reset_index()\n",
    "name_counts_since_1940_numerical_index.head(10)"
   ]
  },
  {
   "cell_type": "markdown",
   "metadata": {
    "nbgrader": {
     "grade": false,
     "grade_id": "cell-546ebfc8247f83b2",
     "locked": true,
     "schema_version": 2,
     "solution": false
    },
    "slideshow": {
     "slide_type": "slide"
    }
   },
   "source": [
    "### Question 2: String Operations and Table Joining"
   ]
  },
  {
   "cell_type": "markdown",
   "metadata": {},
   "source": [
    "Create a new DataFrame called `elections_with_first_name` with a new column `First Name` that is equal to the Candidate's first name.\n",
    "\n",
    "Hint: Use `.str.split`."
   ]
  },
  {
   "cell_type": "code",
   "execution_count": null,
   "metadata": {},
   "outputs": [],
   "source": [
    "elections_with_first_name = ..."
   ]
  },
  {
   "cell_type": "code",
   "execution_count": 82,
   "metadata": {
    "slideshow": {
     "slide_type": "fragment"
    }
   },
   "outputs": [
    {
     "data": {
      "text/html": [
       "<div>\n",
       "<style scoped>\n",
       "    .dataframe tbody tr th:only-of-type {\n",
       "        vertical-align: middle;\n",
       "    }\n",
       "\n",
       "    .dataframe tbody tr th {\n",
       "        vertical-align: top;\n",
       "    }\n",
       "\n",
       "    .dataframe thead th {\n",
       "        text-align: right;\n",
       "    }\n",
       "</style>\n",
       "<table border=\"1\" class=\"dataframe\">\n",
       "  <thead>\n",
       "    <tr style=\"text-align: right;\">\n",
       "      <th></th>\n",
       "      <th>Year</th>\n",
       "      <th>Candidate</th>\n",
       "      <th>Party</th>\n",
       "      <th>Popular vote</th>\n",
       "      <th>Result</th>\n",
       "      <th>%</th>\n",
       "      <th>First Name</th>\n",
       "    </tr>\n",
       "  </thead>\n",
       "  <tbody>\n",
       "    <tr>\n",
       "      <th>0</th>\n",
       "      <td>1824</td>\n",
       "      <td>Andrew Jackson</td>\n",
       "      <td>Democratic-Republican</td>\n",
       "      <td>151271</td>\n",
       "      <td>loss</td>\n",
       "      <td>57.210122</td>\n",
       "      <td>Andrew</td>\n",
       "    </tr>\n",
       "    <tr>\n",
       "      <th>1</th>\n",
       "      <td>1824</td>\n",
       "      <td>John Quincy Adams</td>\n",
       "      <td>Democratic-Republican</td>\n",
       "      <td>113142</td>\n",
       "      <td>win</td>\n",
       "      <td>42.789878</td>\n",
       "      <td>John</td>\n",
       "    </tr>\n",
       "    <tr>\n",
       "      <th>2</th>\n",
       "      <td>1828</td>\n",
       "      <td>Andrew Jackson</td>\n",
       "      <td>Democratic</td>\n",
       "      <td>642806</td>\n",
       "      <td>win</td>\n",
       "      <td>56.203927</td>\n",
       "      <td>Andrew</td>\n",
       "    </tr>\n",
       "    <tr>\n",
       "      <th>3</th>\n",
       "      <td>1828</td>\n",
       "      <td>John Quincy Adams</td>\n",
       "      <td>National Republican</td>\n",
       "      <td>500897</td>\n",
       "      <td>loss</td>\n",
       "      <td>43.796073</td>\n",
       "      <td>John</td>\n",
       "    </tr>\n",
       "    <tr>\n",
       "      <th>4</th>\n",
       "      <td>1832</td>\n",
       "      <td>Andrew Jackson</td>\n",
       "      <td>Democratic</td>\n",
       "      <td>702735</td>\n",
       "      <td>win</td>\n",
       "      <td>54.574789</td>\n",
       "      <td>Andrew</td>\n",
       "    </tr>\n",
       "    <tr>\n",
       "      <th>5</th>\n",
       "      <td>1832</td>\n",
       "      <td>Henry Clay</td>\n",
       "      <td>National Republican</td>\n",
       "      <td>484205</td>\n",
       "      <td>loss</td>\n",
       "      <td>37.603628</td>\n",
       "      <td>Henry</td>\n",
       "    </tr>\n",
       "    <tr>\n",
       "      <th>6</th>\n",
       "      <td>1832</td>\n",
       "      <td>William Wirt</td>\n",
       "      <td>Anti-Masonic</td>\n",
       "      <td>100715</td>\n",
       "      <td>loss</td>\n",
       "      <td>7.821583</td>\n",
       "      <td>William</td>\n",
       "    </tr>\n",
       "    <tr>\n",
       "      <th>7</th>\n",
       "      <td>1836</td>\n",
       "      <td>Hugh Lawson White</td>\n",
       "      <td>Whig</td>\n",
       "      <td>146109</td>\n",
       "      <td>loss</td>\n",
       "      <td>10.005985</td>\n",
       "      <td>Hugh</td>\n",
       "    </tr>\n",
       "    <tr>\n",
       "      <th>8</th>\n",
       "      <td>1836</td>\n",
       "      <td>Martin Van Buren</td>\n",
       "      <td>Democratic</td>\n",
       "      <td>763291</td>\n",
       "      <td>win</td>\n",
       "      <td>52.272472</td>\n",
       "      <td>Martin</td>\n",
       "    </tr>\n",
       "    <tr>\n",
       "      <th>9</th>\n",
       "      <td>1836</td>\n",
       "      <td>William Henry Harrison</td>\n",
       "      <td>Whig</td>\n",
       "      <td>550816</td>\n",
       "      <td>loss</td>\n",
       "      <td>37.721543</td>\n",
       "      <td>William</td>\n",
       "    </tr>\n",
       "    <tr>\n",
       "      <th>10</th>\n",
       "      <td>1840</td>\n",
       "      <td>Martin Van Buren</td>\n",
       "      <td>Democratic</td>\n",
       "      <td>1128854</td>\n",
       "      <td>loss</td>\n",
       "      <td>46.948787</td>\n",
       "      <td>Martin</td>\n",
       "    </tr>\n",
       "    <tr>\n",
       "      <th>11</th>\n",
       "      <td>1840</td>\n",
       "      <td>William Henry Harrison</td>\n",
       "      <td>Whig</td>\n",
       "      <td>1275583</td>\n",
       "      <td>win</td>\n",
       "      <td>53.051213</td>\n",
       "      <td>William</td>\n",
       "    </tr>\n",
       "    <tr>\n",
       "      <th>12</th>\n",
       "      <td>1844</td>\n",
       "      <td>Henry Clay</td>\n",
       "      <td>Whig</td>\n",
       "      <td>1300004</td>\n",
       "      <td>loss</td>\n",
       "      <td>49.250523</td>\n",
       "      <td>Henry</td>\n",
       "    </tr>\n",
       "    <tr>\n",
       "      <th>13</th>\n",
       "      <td>1844</td>\n",
       "      <td>James Polk</td>\n",
       "      <td>Democratic</td>\n",
       "      <td>1339570</td>\n",
       "      <td>win</td>\n",
       "      <td>50.749477</td>\n",
       "      <td>James</td>\n",
       "    </tr>\n",
       "    <tr>\n",
       "      <th>14</th>\n",
       "      <td>1848</td>\n",
       "      <td>Lewis Cass</td>\n",
       "      <td>Democratic</td>\n",
       "      <td>1223460</td>\n",
       "      <td>loss</td>\n",
       "      <td>42.552229</td>\n",
       "      <td>Lewis</td>\n",
       "    </tr>\n",
       "    <tr>\n",
       "      <th>15</th>\n",
       "      <td>1848</td>\n",
       "      <td>Martin Van Buren</td>\n",
       "      <td>Free Soil</td>\n",
       "      <td>291501</td>\n",
       "      <td>loss</td>\n",
       "      <td>10.138474</td>\n",
       "      <td>Martin</td>\n",
       "    </tr>\n",
       "    <tr>\n",
       "      <th>16</th>\n",
       "      <td>1848</td>\n",
       "      <td>Zachary Taylor</td>\n",
       "      <td>Whig</td>\n",
       "      <td>1360235</td>\n",
       "      <td>win</td>\n",
       "      <td>47.309296</td>\n",
       "      <td>Zachary</td>\n",
       "    </tr>\n",
       "    <tr>\n",
       "      <th>17</th>\n",
       "      <td>1852</td>\n",
       "      <td>Franklin Pierce</td>\n",
       "      <td>Democratic</td>\n",
       "      <td>1605943</td>\n",
       "      <td>win</td>\n",
       "      <td>51.013168</td>\n",
       "      <td>Franklin</td>\n",
       "    </tr>\n",
       "    <tr>\n",
       "      <th>18</th>\n",
       "      <td>1852</td>\n",
       "      <td>John P. Hale</td>\n",
       "      <td>Free Soil</td>\n",
       "      <td>155210</td>\n",
       "      <td>loss</td>\n",
       "      <td>4.930283</td>\n",
       "      <td>John</td>\n",
       "    </tr>\n",
       "    <tr>\n",
       "      <th>19</th>\n",
       "      <td>1852</td>\n",
       "      <td>Winfield Scott</td>\n",
       "      <td>Whig</td>\n",
       "      <td>1386942</td>\n",
       "      <td>loss</td>\n",
       "      <td>44.056548</td>\n",
       "      <td>Winfield</td>\n",
       "    </tr>\n",
       "    <tr>\n",
       "      <th>20</th>\n",
       "      <td>1856</td>\n",
       "      <td>James Buchanan</td>\n",
       "      <td>Democratic</td>\n",
       "      <td>1835140</td>\n",
       "      <td>win</td>\n",
       "      <td>45.306080</td>\n",
       "      <td>James</td>\n",
       "    </tr>\n",
       "    <tr>\n",
       "      <th>21</th>\n",
       "      <td>1856</td>\n",
       "      <td>John C. Frémont</td>\n",
       "      <td>Republican</td>\n",
       "      <td>1342345</td>\n",
       "      <td>loss</td>\n",
       "      <td>33.139919</td>\n",
       "      <td>John</td>\n",
       "    </tr>\n",
       "    <tr>\n",
       "      <th>22</th>\n",
       "      <td>1856</td>\n",
       "      <td>Millard Fillmore</td>\n",
       "      <td>American</td>\n",
       "      <td>873053</td>\n",
       "      <td>loss</td>\n",
       "      <td>21.554001</td>\n",
       "      <td>Millard</td>\n",
       "    </tr>\n",
       "    <tr>\n",
       "      <th>23</th>\n",
       "      <td>1860</td>\n",
       "      <td>Abraham Lincoln</td>\n",
       "      <td>Republican</td>\n",
       "      <td>1855993</td>\n",
       "      <td>win</td>\n",
       "      <td>39.699408</td>\n",
       "      <td>Abraham</td>\n",
       "    </tr>\n",
       "    <tr>\n",
       "      <th>24</th>\n",
       "      <td>1860</td>\n",
       "      <td>John Bell</td>\n",
       "      <td>Constitutional Union</td>\n",
       "      <td>590901</td>\n",
       "      <td>loss</td>\n",
       "      <td>12.639283</td>\n",
       "      <td>John</td>\n",
       "    </tr>\n",
       "    <tr>\n",
       "      <th>25</th>\n",
       "      <td>1860</td>\n",
       "      <td>John C. Breckinridge</td>\n",
       "      <td>Southern Democratic</td>\n",
       "      <td>848019</td>\n",
       "      <td>loss</td>\n",
       "      <td>18.138998</td>\n",
       "      <td>John</td>\n",
       "    </tr>\n",
       "    <tr>\n",
       "      <th>26</th>\n",
       "      <td>1860</td>\n",
       "      <td>Stephen A. Douglas</td>\n",
       "      <td>Northern Democratic</td>\n",
       "      <td>1380202</td>\n",
       "      <td>loss</td>\n",
       "      <td>29.522311</td>\n",
       "      <td>Stephen</td>\n",
       "    </tr>\n",
       "    <tr>\n",
       "      <th>27</th>\n",
       "      <td>1864</td>\n",
       "      <td>Abraham Lincoln</td>\n",
       "      <td>National Union</td>\n",
       "      <td>2211317</td>\n",
       "      <td>win</td>\n",
       "      <td>54.951512</td>\n",
       "      <td>Abraham</td>\n",
       "    </tr>\n",
       "    <tr>\n",
       "      <th>28</th>\n",
       "      <td>1864</td>\n",
       "      <td>George B. McClellan</td>\n",
       "      <td>Democratic</td>\n",
       "      <td>1812807</td>\n",
       "      <td>loss</td>\n",
       "      <td>45.048488</td>\n",
       "      <td>George</td>\n",
       "    </tr>\n",
       "    <tr>\n",
       "      <th>29</th>\n",
       "      <td>1868</td>\n",
       "      <td>Horatio Seymour</td>\n",
       "      <td>Democratic</td>\n",
       "      <td>2708744</td>\n",
       "      <td>loss</td>\n",
       "      <td>47.334695</td>\n",
       "      <td>Horatio</td>\n",
       "    </tr>\n",
       "    <tr>\n",
       "      <th>...</th>\n",
       "      <td>...</td>\n",
       "      <td>...</td>\n",
       "      <td>...</td>\n",
       "      <td>...</td>\n",
       "      <td>...</td>\n",
       "      <td>...</td>\n",
       "      <td>...</td>\n",
       "    </tr>\n",
       "    <tr>\n",
       "      <th>148</th>\n",
       "      <td>1996</td>\n",
       "      <td>John Hagelin</td>\n",
       "      <td>Natural Law</td>\n",
       "      <td>113670</td>\n",
       "      <td>loss</td>\n",
       "      <td>0.118219</td>\n",
       "      <td>John</td>\n",
       "    </tr>\n",
       "    <tr>\n",
       "      <th>149</th>\n",
       "      <td>1996</td>\n",
       "      <td>Ralph Nader</td>\n",
       "      <td>Green</td>\n",
       "      <td>685297</td>\n",
       "      <td>loss</td>\n",
       "      <td>0.712721</td>\n",
       "      <td>Ralph</td>\n",
       "    </tr>\n",
       "    <tr>\n",
       "      <th>150</th>\n",
       "      <td>1996</td>\n",
       "      <td>Ross Perot</td>\n",
       "      <td>Reform</td>\n",
       "      <td>8085294</td>\n",
       "      <td>loss</td>\n",
       "      <td>8.408844</td>\n",
       "      <td>Ross</td>\n",
       "    </tr>\n",
       "    <tr>\n",
       "      <th>151</th>\n",
       "      <td>2000</td>\n",
       "      <td>Al Gore</td>\n",
       "      <td>Democratic</td>\n",
       "      <td>50999897</td>\n",
       "      <td>loss</td>\n",
       "      <td>48.491813</td>\n",
       "      <td>Al</td>\n",
       "    </tr>\n",
       "    <tr>\n",
       "      <th>152</th>\n",
       "      <td>2000</td>\n",
       "      <td>George W. Bush</td>\n",
       "      <td>Republican</td>\n",
       "      <td>50456002</td>\n",
       "      <td>win</td>\n",
       "      <td>47.974666</td>\n",
       "      <td>George</td>\n",
       "    </tr>\n",
       "    <tr>\n",
       "      <th>153</th>\n",
       "      <td>2000</td>\n",
       "      <td>Harry Browne</td>\n",
       "      <td>Libertarian</td>\n",
       "      <td>384431</td>\n",
       "      <td>loss</td>\n",
       "      <td>0.365525</td>\n",
       "      <td>Harry</td>\n",
       "    </tr>\n",
       "    <tr>\n",
       "      <th>154</th>\n",
       "      <td>2000</td>\n",
       "      <td>Pat Buchanan</td>\n",
       "      <td>Reform</td>\n",
       "      <td>448895</td>\n",
       "      <td>loss</td>\n",
       "      <td>0.426819</td>\n",
       "      <td>Pat</td>\n",
       "    </tr>\n",
       "    <tr>\n",
       "      <th>155</th>\n",
       "      <td>2000</td>\n",
       "      <td>Ralph Nader</td>\n",
       "      <td>Green</td>\n",
       "      <td>2882955</td>\n",
       "      <td>loss</td>\n",
       "      <td>2.741176</td>\n",
       "      <td>Ralph</td>\n",
       "    </tr>\n",
       "    <tr>\n",
       "      <th>156</th>\n",
       "      <td>2004</td>\n",
       "      <td>David Cobb</td>\n",
       "      <td>Green</td>\n",
       "      <td>119859</td>\n",
       "      <td>loss</td>\n",
       "      <td>0.098088</td>\n",
       "      <td>David</td>\n",
       "    </tr>\n",
       "    <tr>\n",
       "      <th>157</th>\n",
       "      <td>2004</td>\n",
       "      <td>George W. Bush</td>\n",
       "      <td>Republican</td>\n",
       "      <td>62040610</td>\n",
       "      <td>win</td>\n",
       "      <td>50.771824</td>\n",
       "      <td>George</td>\n",
       "    </tr>\n",
       "    <tr>\n",
       "      <th>158</th>\n",
       "      <td>2004</td>\n",
       "      <td>John Kerry</td>\n",
       "      <td>Democratic</td>\n",
       "      <td>59028444</td>\n",
       "      <td>loss</td>\n",
       "      <td>48.306775</td>\n",
       "      <td>John</td>\n",
       "    </tr>\n",
       "    <tr>\n",
       "      <th>159</th>\n",
       "      <td>2004</td>\n",
       "      <td>Michael Badnarik</td>\n",
       "      <td>Libertarian</td>\n",
       "      <td>397265</td>\n",
       "      <td>loss</td>\n",
       "      <td>0.325108</td>\n",
       "      <td>Michael</td>\n",
       "    </tr>\n",
       "    <tr>\n",
       "      <th>160</th>\n",
       "      <td>2004</td>\n",
       "      <td>Michael Peroutka</td>\n",
       "      <td>Constitution</td>\n",
       "      <td>143630</td>\n",
       "      <td>loss</td>\n",
       "      <td>0.117542</td>\n",
       "      <td>Michael</td>\n",
       "    </tr>\n",
       "    <tr>\n",
       "      <th>161</th>\n",
       "      <td>2004</td>\n",
       "      <td>Ralph Nader</td>\n",
       "      <td>Independent</td>\n",
       "      <td>465151</td>\n",
       "      <td>loss</td>\n",
       "      <td>0.380663</td>\n",
       "      <td>Ralph</td>\n",
       "    </tr>\n",
       "    <tr>\n",
       "      <th>162</th>\n",
       "      <td>2008</td>\n",
       "      <td>Barack Obama</td>\n",
       "      <td>Democratic</td>\n",
       "      <td>69498516</td>\n",
       "      <td>win</td>\n",
       "      <td>53.023510</td>\n",
       "      <td>Barack</td>\n",
       "    </tr>\n",
       "    <tr>\n",
       "      <th>163</th>\n",
       "      <td>2008</td>\n",
       "      <td>Bob Barr</td>\n",
       "      <td>Libertarian</td>\n",
       "      <td>523715</td>\n",
       "      <td>loss</td>\n",
       "      <td>0.399565</td>\n",
       "      <td>Bob</td>\n",
       "    </tr>\n",
       "    <tr>\n",
       "      <th>164</th>\n",
       "      <td>2008</td>\n",
       "      <td>Chuck Baldwin</td>\n",
       "      <td>Constitution</td>\n",
       "      <td>199750</td>\n",
       "      <td>loss</td>\n",
       "      <td>0.152398</td>\n",
       "      <td>Chuck</td>\n",
       "    </tr>\n",
       "    <tr>\n",
       "      <th>165</th>\n",
       "      <td>2008</td>\n",
       "      <td>Cynthia McKinney</td>\n",
       "      <td>Green</td>\n",
       "      <td>161797</td>\n",
       "      <td>loss</td>\n",
       "      <td>0.123442</td>\n",
       "      <td>Cynthia</td>\n",
       "    </tr>\n",
       "    <tr>\n",
       "      <th>166</th>\n",
       "      <td>2008</td>\n",
       "      <td>John McCain</td>\n",
       "      <td>Republican</td>\n",
       "      <td>59948323</td>\n",
       "      <td>loss</td>\n",
       "      <td>45.737243</td>\n",
       "      <td>John</td>\n",
       "    </tr>\n",
       "    <tr>\n",
       "      <th>167</th>\n",
       "      <td>2008</td>\n",
       "      <td>Ralph Nader</td>\n",
       "      <td>Independent</td>\n",
       "      <td>739034</td>\n",
       "      <td>loss</td>\n",
       "      <td>0.563842</td>\n",
       "      <td>Ralph</td>\n",
       "    </tr>\n",
       "    <tr>\n",
       "      <th>168</th>\n",
       "      <td>2012</td>\n",
       "      <td>Barack Obama</td>\n",
       "      <td>Democratic</td>\n",
       "      <td>65915795</td>\n",
       "      <td>win</td>\n",
       "      <td>51.258484</td>\n",
       "      <td>Barack</td>\n",
       "    </tr>\n",
       "    <tr>\n",
       "      <th>169</th>\n",
       "      <td>2012</td>\n",
       "      <td>Gary Johnson</td>\n",
       "      <td>Libertarian</td>\n",
       "      <td>1275971</td>\n",
       "      <td>loss</td>\n",
       "      <td>0.992241</td>\n",
       "      <td>Gary</td>\n",
       "    </tr>\n",
       "    <tr>\n",
       "      <th>170</th>\n",
       "      <td>2012</td>\n",
       "      <td>Jill Stein</td>\n",
       "      <td>Green</td>\n",
       "      <td>469627</td>\n",
       "      <td>loss</td>\n",
       "      <td>0.365199</td>\n",
       "      <td>Jill</td>\n",
       "    </tr>\n",
       "    <tr>\n",
       "      <th>171</th>\n",
       "      <td>2012</td>\n",
       "      <td>Mitt Romney</td>\n",
       "      <td>Republican</td>\n",
       "      <td>60933504</td>\n",
       "      <td>loss</td>\n",
       "      <td>47.384076</td>\n",
       "      <td>Mitt</td>\n",
       "    </tr>\n",
       "    <tr>\n",
       "      <th>172</th>\n",
       "      <td>2016</td>\n",
       "      <td>Darrell Castle</td>\n",
       "      <td>Constitution</td>\n",
       "      <td>203091</td>\n",
       "      <td>loss</td>\n",
       "      <td>0.149640</td>\n",
       "      <td>Darrell</td>\n",
       "    </tr>\n",
       "    <tr>\n",
       "      <th>173</th>\n",
       "      <td>2016</td>\n",
       "      <td>Donald Trump</td>\n",
       "      <td>Republican</td>\n",
       "      <td>62984828</td>\n",
       "      <td>win</td>\n",
       "      <td>46.407862</td>\n",
       "      <td>Donald</td>\n",
       "    </tr>\n",
       "    <tr>\n",
       "      <th>174</th>\n",
       "      <td>2016</td>\n",
       "      <td>Evan McMullin</td>\n",
       "      <td>Independent</td>\n",
       "      <td>732273</td>\n",
       "      <td>loss</td>\n",
       "      <td>0.539546</td>\n",
       "      <td>Evan</td>\n",
       "    </tr>\n",
       "    <tr>\n",
       "      <th>175</th>\n",
       "      <td>2016</td>\n",
       "      <td>Gary Johnson</td>\n",
       "      <td>Libertarian</td>\n",
       "      <td>4489235</td>\n",
       "      <td>loss</td>\n",
       "      <td>3.307714</td>\n",
       "      <td>Gary</td>\n",
       "    </tr>\n",
       "    <tr>\n",
       "      <th>176</th>\n",
       "      <td>2016</td>\n",
       "      <td>Hillary Clinton</td>\n",
       "      <td>Democratic</td>\n",
       "      <td>65853514</td>\n",
       "      <td>loss</td>\n",
       "      <td>48.521539</td>\n",
       "      <td>Hillary</td>\n",
       "    </tr>\n",
       "    <tr>\n",
       "      <th>177</th>\n",
       "      <td>2016</td>\n",
       "      <td>Jill Stein</td>\n",
       "      <td>Green</td>\n",
       "      <td>1457226</td>\n",
       "      <td>loss</td>\n",
       "      <td>1.073699</td>\n",
       "      <td>Jill</td>\n",
       "    </tr>\n",
       "  </tbody>\n",
       "</table>\n",
       "<p>178 rows × 7 columns</p>\n",
       "</div>"
      ],
      "text/plain": [
       "     Year               Candidate                  Party  Popular vote Result  \\\n",
       "0    1824          Andrew Jackson  Democratic-Republican        151271   loss   \n",
       "1    1824       John Quincy Adams  Democratic-Republican        113142    win   \n",
       "2    1828          Andrew Jackson             Democratic        642806    win   \n",
       "3    1828       John Quincy Adams    National Republican        500897   loss   \n",
       "4    1832          Andrew Jackson             Democratic        702735    win   \n",
       "5    1832              Henry Clay    National Republican        484205   loss   \n",
       "6    1832            William Wirt           Anti-Masonic        100715   loss   \n",
       "7    1836       Hugh Lawson White                   Whig        146109   loss   \n",
       "8    1836        Martin Van Buren             Democratic        763291    win   \n",
       "9    1836  William Henry Harrison                   Whig        550816   loss   \n",
       "10   1840        Martin Van Buren             Democratic       1128854   loss   \n",
       "11   1840  William Henry Harrison                   Whig       1275583    win   \n",
       "12   1844              Henry Clay                   Whig       1300004   loss   \n",
       "13   1844              James Polk             Democratic       1339570    win   \n",
       "14   1848              Lewis Cass             Democratic       1223460   loss   \n",
       "15   1848        Martin Van Buren              Free Soil        291501   loss   \n",
       "16   1848          Zachary Taylor                   Whig       1360235    win   \n",
       "17   1852         Franklin Pierce             Democratic       1605943    win   \n",
       "18   1852            John P. Hale              Free Soil        155210   loss   \n",
       "19   1852          Winfield Scott                   Whig       1386942   loss   \n",
       "20   1856          James Buchanan             Democratic       1835140    win   \n",
       "21   1856         John C. Frémont             Republican       1342345   loss   \n",
       "22   1856        Millard Fillmore               American        873053   loss   \n",
       "23   1860         Abraham Lincoln             Republican       1855993    win   \n",
       "24   1860               John Bell   Constitutional Union        590901   loss   \n",
       "25   1860    John C. Breckinridge    Southern Democratic        848019   loss   \n",
       "26   1860      Stephen A. Douglas    Northern Democratic       1380202   loss   \n",
       "27   1864         Abraham Lincoln         National Union       2211317    win   \n",
       "28   1864     George B. McClellan             Democratic       1812807   loss   \n",
       "29   1868         Horatio Seymour             Democratic       2708744   loss   \n",
       "..    ...                     ...                    ...           ...    ...   \n",
       "148  1996            John Hagelin            Natural Law        113670   loss   \n",
       "149  1996             Ralph Nader                  Green        685297   loss   \n",
       "150  1996              Ross Perot                 Reform       8085294   loss   \n",
       "151  2000                 Al Gore             Democratic      50999897   loss   \n",
       "152  2000          George W. Bush             Republican      50456002    win   \n",
       "153  2000            Harry Browne            Libertarian        384431   loss   \n",
       "154  2000            Pat Buchanan                 Reform        448895   loss   \n",
       "155  2000             Ralph Nader                  Green       2882955   loss   \n",
       "156  2004              David Cobb                  Green        119859   loss   \n",
       "157  2004          George W. Bush             Republican      62040610    win   \n",
       "158  2004              John Kerry             Democratic      59028444   loss   \n",
       "159  2004        Michael Badnarik            Libertarian        397265   loss   \n",
       "160  2004        Michael Peroutka           Constitution        143630   loss   \n",
       "161  2004             Ralph Nader            Independent        465151   loss   \n",
       "162  2008            Barack Obama             Democratic      69498516    win   \n",
       "163  2008                Bob Barr            Libertarian        523715   loss   \n",
       "164  2008           Chuck Baldwin           Constitution        199750   loss   \n",
       "165  2008        Cynthia McKinney                  Green        161797   loss   \n",
       "166  2008             John McCain             Republican      59948323   loss   \n",
       "167  2008             Ralph Nader            Independent        739034   loss   \n",
       "168  2012            Barack Obama             Democratic      65915795    win   \n",
       "169  2012            Gary Johnson            Libertarian       1275971   loss   \n",
       "170  2012              Jill Stein                  Green        469627   loss   \n",
       "171  2012             Mitt Romney             Republican      60933504   loss   \n",
       "172  2016          Darrell Castle           Constitution        203091   loss   \n",
       "173  2016            Donald Trump             Republican      62984828    win   \n",
       "174  2016           Evan McMullin            Independent        732273   loss   \n",
       "175  2016            Gary Johnson            Libertarian       4489235   loss   \n",
       "176  2016         Hillary Clinton             Democratic      65853514   loss   \n",
       "177  2016              Jill Stein                  Green       1457226   loss   \n",
       "\n",
       "             % First Name  \n",
       "0    57.210122     Andrew  \n",
       "1    42.789878       John  \n",
       "2    56.203927     Andrew  \n",
       "3    43.796073       John  \n",
       "4    54.574789     Andrew  \n",
       "5    37.603628      Henry  \n",
       "6     7.821583    William  \n",
       "7    10.005985       Hugh  \n",
       "8    52.272472     Martin  \n",
       "9    37.721543    William  \n",
       "10   46.948787     Martin  \n",
       "11   53.051213    William  \n",
       "12   49.250523      Henry  \n",
       "13   50.749477      James  \n",
       "14   42.552229      Lewis  \n",
       "15   10.138474     Martin  \n",
       "16   47.309296    Zachary  \n",
       "17   51.013168   Franklin  \n",
       "18    4.930283       John  \n",
       "19   44.056548   Winfield  \n",
       "20   45.306080      James  \n",
       "21   33.139919       John  \n",
       "22   21.554001    Millard  \n",
       "23   39.699408    Abraham  \n",
       "24   12.639283       John  \n",
       "25   18.138998       John  \n",
       "26   29.522311    Stephen  \n",
       "27   54.951512    Abraham  \n",
       "28   45.048488     George  \n",
       "29   47.334695    Horatio  \n",
       "..         ...        ...  \n",
       "148   0.118219       John  \n",
       "149   0.712721      Ralph  \n",
       "150   8.408844       Ross  \n",
       "151  48.491813         Al  \n",
       "152  47.974666     George  \n",
       "153   0.365525      Harry  \n",
       "154   0.426819        Pat  \n",
       "155   2.741176      Ralph  \n",
       "156   0.098088      David  \n",
       "157  50.771824     George  \n",
       "158  48.306775       John  \n",
       "159   0.325108    Michael  \n",
       "160   0.117542    Michael  \n",
       "161   0.380663      Ralph  \n",
       "162  53.023510     Barack  \n",
       "163   0.399565        Bob  \n",
       "164   0.152398      Chuck  \n",
       "165   0.123442    Cynthia  \n",
       "166  45.737243       John  \n",
       "167   0.563842      Ralph  \n",
       "168  51.258484     Barack  \n",
       "169   0.992241       Gary  \n",
       "170   0.365199       Jill  \n",
       "171  47.384076       Mitt  \n",
       "172   0.149640    Darrell  \n",
       "173  46.407862     Donald  \n",
       "174   0.539546       Evan  \n",
       "175   3.307714       Gary  \n",
       "176  48.521539    Hillary  \n",
       "177   1.073699       Jill  \n",
       "\n",
       "[178 rows x 7 columns]"
      ]
     },
     "execution_count": 82,
     "metadata": {},
     "output_type": "execute_result"
    }
   ],
   "source": [
    "## Solution ##\n",
    "elections_with_first_name = elections.copy()\n",
    "elections_with_first_name[\"First Name\"] = elections[\"Candidate\"].str.split(\" \").str[0]\n",
    "elections_with_first_name"
   ]
  },
  {
   "cell_type": "markdown",
   "metadata": {
    "slideshow": {
     "slide_type": "slide"
    }
   },
   "source": [
    "By default `pd.merge` will only join on values that are common to both of the tables we are merging (inner join). Below is an example of joining `elections_with_first_name` with `name_counts_since_1940_numerical_index` only on the first names."
   ]
  },
  {
   "cell_type": "code",
   "execution_count": 83,
   "metadata": {},
   "outputs": [
    {
     "data": {
      "text/html": [
       "<div>\n",
       "<style scoped>\n",
       "    .dataframe tbody tr th:only-of-type {\n",
       "        vertical-align: middle;\n",
       "    }\n",
       "\n",
       "    .dataframe tbody tr th {\n",
       "        vertical-align: top;\n",
       "    }\n",
       "\n",
       "    .dataframe thead th {\n",
       "        text-align: right;\n",
       "    }\n",
       "</style>\n",
       "<table border=\"1\" class=\"dataframe\">\n",
       "  <thead>\n",
       "    <tr style=\"text-align: right;\">\n",
       "      <th></th>\n",
       "      <th>Year_x</th>\n",
       "      <th>Candidate</th>\n",
       "      <th>Party</th>\n",
       "      <th>Popular vote</th>\n",
       "      <th>Result</th>\n",
       "      <th>%</th>\n",
       "      <th>First Name</th>\n",
       "      <th>Name</th>\n",
       "      <th>Year_y</th>\n",
       "      <th>Count</th>\n",
       "    </tr>\n",
       "  </thead>\n",
       "  <tbody>\n",
       "    <tr>\n",
       "      <th>0</th>\n",
       "      <td>1824</td>\n",
       "      <td>Andrew Jackson</td>\n",
       "      <td>Democratic-Republican</td>\n",
       "      <td>151271</td>\n",
       "      <td>loss</td>\n",
       "      <td>57.210122</td>\n",
       "      <td>Andrew</td>\n",
       "      <td>Andrew</td>\n",
       "      <td>1940</td>\n",
       "      <td>87</td>\n",
       "    </tr>\n",
       "    <tr>\n",
       "      <th>1</th>\n",
       "      <td>1824</td>\n",
       "      <td>Andrew Jackson</td>\n",
       "      <td>Democratic-Republican</td>\n",
       "      <td>151271</td>\n",
       "      <td>loss</td>\n",
       "      <td>57.210122</td>\n",
       "      <td>Andrew</td>\n",
       "      <td>Andrew</td>\n",
       "      <td>1941</td>\n",
       "      <td>116</td>\n",
       "    </tr>\n",
       "    <tr>\n",
       "      <th>2</th>\n",
       "      <td>1824</td>\n",
       "      <td>Andrew Jackson</td>\n",
       "      <td>Democratic-Republican</td>\n",
       "      <td>151271</td>\n",
       "      <td>loss</td>\n",
       "      <td>57.210122</td>\n",
       "      <td>Andrew</td>\n",
       "      <td>Andrew</td>\n",
       "      <td>1942</td>\n",
       "      <td>139</td>\n",
       "    </tr>\n",
       "    <tr>\n",
       "      <th>3</th>\n",
       "      <td>1824</td>\n",
       "      <td>Andrew Jackson</td>\n",
       "      <td>Democratic-Republican</td>\n",
       "      <td>151271</td>\n",
       "      <td>loss</td>\n",
       "      <td>57.210122</td>\n",
       "      <td>Andrew</td>\n",
       "      <td>Andrew</td>\n",
       "      <td>1943</td>\n",
       "      <td>140</td>\n",
       "    </tr>\n",
       "    <tr>\n",
       "      <th>4</th>\n",
       "      <td>1824</td>\n",
       "      <td>Andrew Jackson</td>\n",
       "      <td>Democratic-Republican</td>\n",
       "      <td>151271</td>\n",
       "      <td>loss</td>\n",
       "      <td>57.210122</td>\n",
       "      <td>Andrew</td>\n",
       "      <td>Andrew</td>\n",
       "      <td>1944</td>\n",
       "      <td>155</td>\n",
       "    </tr>\n",
       "    <tr>\n",
       "      <th>5</th>\n",
       "      <td>1824</td>\n",
       "      <td>Andrew Jackson</td>\n",
       "      <td>Democratic-Republican</td>\n",
       "      <td>151271</td>\n",
       "      <td>loss</td>\n",
       "      <td>57.210122</td>\n",
       "      <td>Andrew</td>\n",
       "      <td>Andrew</td>\n",
       "      <td>1945</td>\n",
       "      <td>164</td>\n",
       "    </tr>\n",
       "    <tr>\n",
       "      <th>6</th>\n",
       "      <td>1824</td>\n",
       "      <td>Andrew Jackson</td>\n",
       "      <td>Democratic-Republican</td>\n",
       "      <td>151271</td>\n",
       "      <td>loss</td>\n",
       "      <td>57.210122</td>\n",
       "      <td>Andrew</td>\n",
       "      <td>Andrew</td>\n",
       "      <td>1946</td>\n",
       "      <td>236</td>\n",
       "    </tr>\n",
       "    <tr>\n",
       "      <th>7</th>\n",
       "      <td>1824</td>\n",
       "      <td>Andrew Jackson</td>\n",
       "      <td>Democratic-Republican</td>\n",
       "      <td>151271</td>\n",
       "      <td>loss</td>\n",
       "      <td>57.210122</td>\n",
       "      <td>Andrew</td>\n",
       "      <td>Andrew</td>\n",
       "      <td>1947</td>\n",
       "      <td>253</td>\n",
       "    </tr>\n",
       "    <tr>\n",
       "      <th>8</th>\n",
       "      <td>1824</td>\n",
       "      <td>Andrew Jackson</td>\n",
       "      <td>Democratic-Republican</td>\n",
       "      <td>151271</td>\n",
       "      <td>loss</td>\n",
       "      <td>57.210122</td>\n",
       "      <td>Andrew</td>\n",
       "      <td>Andrew</td>\n",
       "      <td>1948</td>\n",
       "      <td>266</td>\n",
       "    </tr>\n",
       "    <tr>\n",
       "      <th>9</th>\n",
       "      <td>1824</td>\n",
       "      <td>Andrew Jackson</td>\n",
       "      <td>Democratic-Republican</td>\n",
       "      <td>151271</td>\n",
       "      <td>loss</td>\n",
       "      <td>57.210122</td>\n",
       "      <td>Andrew</td>\n",
       "      <td>Andrew</td>\n",
       "      <td>1949</td>\n",
       "      <td>289</td>\n",
       "    </tr>\n",
       "  </tbody>\n",
       "</table>\n",
       "</div>"
      ],
      "text/plain": [
       "   Year_x       Candidate                  Party  Popular vote Result  \\\n",
       "0    1824  Andrew Jackson  Democratic-Republican        151271   loss   \n",
       "1    1824  Andrew Jackson  Democratic-Republican        151271   loss   \n",
       "2    1824  Andrew Jackson  Democratic-Republican        151271   loss   \n",
       "3    1824  Andrew Jackson  Democratic-Republican        151271   loss   \n",
       "4    1824  Andrew Jackson  Democratic-Republican        151271   loss   \n",
       "5    1824  Andrew Jackson  Democratic-Republican        151271   loss   \n",
       "6    1824  Andrew Jackson  Democratic-Republican        151271   loss   \n",
       "7    1824  Andrew Jackson  Democratic-Republican        151271   loss   \n",
       "8    1824  Andrew Jackson  Democratic-Republican        151271   loss   \n",
       "9    1824  Andrew Jackson  Democratic-Republican        151271   loss   \n",
       "\n",
       "           % First Name    Name  Year_y  Count  \n",
       "0  57.210122     Andrew  Andrew    1940     87  \n",
       "1  57.210122     Andrew  Andrew    1941    116  \n",
       "2  57.210122     Andrew  Andrew    1942    139  \n",
       "3  57.210122     Andrew  Andrew    1943    140  \n",
       "4  57.210122     Andrew  Andrew    1944    155  \n",
       "5  57.210122     Andrew  Andrew    1945    164  \n",
       "6  57.210122     Andrew  Andrew    1946    236  \n",
       "7  57.210122     Andrew  Andrew    1947    253  \n",
       "8  57.210122     Andrew  Andrew    1948    266  \n",
       "9  57.210122     Andrew  Andrew    1949    289  "
      ]
     },
     "execution_count": 83,
     "metadata": {},
     "output_type": "execute_result"
    }
   ],
   "source": [
    "elections_and_names_by_name = pd.merge(elections_with_first_name, name_counts_since_1940_numerical_index, left_on='First Name', right_on='Name')\n",
    "elections_and_names_by_name.head(10)"
   ]
  },
  {
   "cell_type": "markdown",
   "metadata": {
    "slideshow": {
     "slide_type": "subslide"
    }
   },
   "source": [
    "Now create `elections_and_names` by joining the `elections_with_first_name` table with `name_counts_since_1940_numerical_index` on both the first names of each person along and the year."
   ]
  },
  {
   "cell_type": "code",
   "execution_count": null,
   "metadata": {
    "scrolled": false
   },
   "outputs": [],
   "source": [
    "elections_and_names = ..."
   ]
  },
  {
   "cell_type": "code",
   "execution_count": 85,
   "metadata": {
    "scrolled": false,
    "slideshow": {
     "slide_type": "fragment"
    }
   },
   "outputs": [
    {
     "data": {
      "text/html": [
       "<div>\n",
       "<style scoped>\n",
       "    .dataframe tbody tr th:only-of-type {\n",
       "        vertical-align: middle;\n",
       "    }\n",
       "\n",
       "    .dataframe tbody tr th {\n",
       "        vertical-align: top;\n",
       "    }\n",
       "\n",
       "    .dataframe thead th {\n",
       "        text-align: right;\n",
       "    }\n",
       "</style>\n",
       "<table border=\"1\" class=\"dataframe\">\n",
       "  <thead>\n",
       "    <tr style=\"text-align: right;\">\n",
       "      <th></th>\n",
       "      <th>Year</th>\n",
       "      <th>Candidate</th>\n",
       "      <th>Party</th>\n",
       "      <th>Popular vote</th>\n",
       "      <th>Result</th>\n",
       "      <th>%</th>\n",
       "      <th>First Name</th>\n",
       "      <th>Name</th>\n",
       "      <th>Count</th>\n",
       "    </tr>\n",
       "  </thead>\n",
       "  <tbody>\n",
       "    <tr>\n",
       "      <th>0</th>\n",
       "      <td>1940</td>\n",
       "      <td>Franklin Roosevelt</td>\n",
       "      <td>Democratic</td>\n",
       "      <td>27313945</td>\n",
       "      <td>win</td>\n",
       "      <td>54.871202</td>\n",
       "      <td>Franklin</td>\n",
       "      <td>Franklin</td>\n",
       "      <td>48</td>\n",
       "    </tr>\n",
       "    <tr>\n",
       "      <th>1</th>\n",
       "      <td>1940</td>\n",
       "      <td>Norman Thomas</td>\n",
       "      <td>Socialist</td>\n",
       "      <td>116599</td>\n",
       "      <td>loss</td>\n",
       "      <td>0.234237</td>\n",
       "      <td>Norman</td>\n",
       "      <td>Norman</td>\n",
       "      <td>259</td>\n",
       "    </tr>\n",
       "    <tr>\n",
       "      <th>2</th>\n",
       "      <td>1940</td>\n",
       "      <td>Wendell Willkie</td>\n",
       "      <td>Republican</td>\n",
       "      <td>22347744</td>\n",
       "      <td>loss</td>\n",
       "      <td>44.894561</td>\n",
       "      <td>Wendell</td>\n",
       "      <td>Wendell</td>\n",
       "      <td>25</td>\n",
       "    </tr>\n",
       "    <tr>\n",
       "      <th>3</th>\n",
       "      <td>1944</td>\n",
       "      <td>Franklin Roosevelt</td>\n",
       "      <td>Democratic</td>\n",
       "      <td>25612916</td>\n",
       "      <td>win</td>\n",
       "      <td>53.773801</td>\n",
       "      <td>Franklin</td>\n",
       "      <td>Franklin</td>\n",
       "      <td>54</td>\n",
       "    </tr>\n",
       "    <tr>\n",
       "      <th>4</th>\n",
       "      <td>1944</td>\n",
       "      <td>Thomas E. Dewey</td>\n",
       "      <td>Republican</td>\n",
       "      <td>22017929</td>\n",
       "      <td>loss</td>\n",
       "      <td>46.226199</td>\n",
       "      <td>Thomas</td>\n",
       "      <td>Thomas</td>\n",
       "      <td>1562</td>\n",
       "    </tr>\n",
       "    <tr>\n",
       "      <th>5</th>\n",
       "      <td>1948</td>\n",
       "      <td>Claude A. Watson</td>\n",
       "      <td>Prohibition</td>\n",
       "      <td>103708</td>\n",
       "      <td>loss</td>\n",
       "      <td>0.212747</td>\n",
       "      <td>Claude</td>\n",
       "      <td>Claude</td>\n",
       "      <td>67</td>\n",
       "    </tr>\n",
       "    <tr>\n",
       "      <th>6</th>\n",
       "      <td>1948</td>\n",
       "      <td>Harry Truman</td>\n",
       "      <td>Democratic</td>\n",
       "      <td>24179347</td>\n",
       "      <td>win</td>\n",
       "      <td>49.601536</td>\n",
       "      <td>Harry</td>\n",
       "      <td>Harry</td>\n",
       "      <td>293</td>\n",
       "    </tr>\n",
       "    <tr>\n",
       "      <th>7</th>\n",
       "      <td>1948</td>\n",
       "      <td>Henry A. Wallace</td>\n",
       "      <td>Progressive</td>\n",
       "      <td>1157328</td>\n",
       "      <td>loss</td>\n",
       "      <td>2.374144</td>\n",
       "      <td>Henry</td>\n",
       "      <td>Henry</td>\n",
       "      <td>421</td>\n",
       "    </tr>\n",
       "    <tr>\n",
       "      <th>8</th>\n",
       "      <td>1948</td>\n",
       "      <td>Norman Thomas</td>\n",
       "      <td>Socialist</td>\n",
       "      <td>139569</td>\n",
       "      <td>loss</td>\n",
       "      <td>0.286312</td>\n",
       "      <td>Norman</td>\n",
       "      <td>Norman</td>\n",
       "      <td>247</td>\n",
       "    </tr>\n",
       "    <tr>\n",
       "      <th>9</th>\n",
       "      <td>1948</td>\n",
       "      <td>Thomas E. Dewey</td>\n",
       "      <td>Republican</td>\n",
       "      <td>21991292</td>\n",
       "      <td>loss</td>\n",
       "      <td>45.112958</td>\n",
       "      <td>Thomas</td>\n",
       "      <td>Thomas</td>\n",
       "      <td>2332</td>\n",
       "    </tr>\n",
       "  </tbody>\n",
       "</table>\n",
       "</div>"
      ],
      "text/plain": [
       "   Year           Candidate        Party  Popular vote Result          %  \\\n",
       "0  1940  Franklin Roosevelt   Democratic      27313945    win  54.871202   \n",
       "1  1940       Norman Thomas    Socialist        116599   loss   0.234237   \n",
       "2  1940     Wendell Willkie   Republican      22347744   loss  44.894561   \n",
       "3  1944  Franklin Roosevelt   Democratic      25612916    win  53.773801   \n",
       "4  1944     Thomas E. Dewey   Republican      22017929   loss  46.226199   \n",
       "5  1948    Claude A. Watson  Prohibition        103708   loss   0.212747   \n",
       "6  1948        Harry Truman   Democratic      24179347    win  49.601536   \n",
       "7  1948    Henry A. Wallace  Progressive       1157328   loss   2.374144   \n",
       "8  1948       Norman Thomas    Socialist        139569   loss   0.286312   \n",
       "9  1948     Thomas E. Dewey   Republican      21991292   loss  45.112958   \n",
       "\n",
       "  First Name      Name  Count  \n",
       "0   Franklin  Franklin     48  \n",
       "1     Norman    Norman    259  \n",
       "2    Wendell   Wendell     25  \n",
       "3   Franklin  Franklin     54  \n",
       "4     Thomas    Thomas   1562  \n",
       "5     Claude    Claude     67  \n",
       "6      Harry     Harry    293  \n",
       "7      Henry     Henry    421  \n",
       "8     Norman    Norman    247  \n",
       "9     Thomas    Thomas   2332  "
      ]
     },
     "execution_count": 85,
     "metadata": {},
     "output_type": "execute_result"
    }
   ],
   "source": [
    "## Solution ##\n",
    "elections_and_names = pd.merge(elections_with_first_name, name_counts_since_1940_numerical_index, left_on=['First Name', 'Year'], right_on=['Name', 'Year'])\n",
    "elections_and_names.head(10)"
   ]
  },
  {
   "cell_type": "markdown",
   "metadata": {
    "slideshow": {
     "slide_type": "subslide"
    }
   },
   "source": [
    "Below we make a crude plot of election winners and losers. According to this plot, since the 1970s, we haven't had a president with a name that was highly common in the year he was elected. \n",
    "\n",
    "Note that our data is a bit messy since, for example, Bill Clinton's name in the data set is \"Bill\", when in fact his legal name is William."
   ]
  },
  {
   "cell_type": "code",
   "execution_count": 86,
   "metadata": {},
   "outputs": [
    {
     "data": {
      "image/png": "[encoded data removed]",
      "text/plain": [
       "<Figure size 432x288 with 1 Axes>"
      ]
     },
     "metadata": {
      "needs_background": "light"
     },
     "output_type": "display_data"
    }
   ],
   "source": [
    "elections_and_names.query(\"Result == 'win'\").set_index(\"Year\")[\"Count\"].plot()\n",
    "elections_and_names.query(\"Result == 'loss'\").sort_values(\"%\").groupby(\"Year\")['Count'].last().plot()\n",
    "plt.legend([\"Winner\", \"Loser\"]);"
   ]
  },
  {
   "cell_type": "markdown",
   "metadata": {
    "slideshow": {
     "slide_type": "slide"
    }
   },
   "source": [
    "# Regexes"
   ]
  },
  {
   "cell_type": "code",
   "execution_count": 87,
   "metadata": {
    "slideshow": {
     "slide_type": "skip"
    }
   },
   "outputs": [],
   "source": [
    "class NotStringError(Exception):\n",
    "    pass\n",
    "\n",
    "def find_matches(text_list, regex):\n",
    "    # This function finds the parts of each string in text_list which matches the regex\n",
    "    if not isinstance(text_list, list):\n",
    "        text_list = [text_list]\n",
    "    \n",
    "    for i, text in enumerate(text_list):\n",
    "        if not isinstance(text, str):\n",
    "             raise NotStringError(f'The {i}th item is not a string.')\n",
    "    \n",
    "    matches = [re.search(regex, text) for text in text_list]\n",
    "        \n",
    "    return [None if match is None else match for match in matches]\n",
    "\n",
    "def get_indices(s, r):\n",
    "    \"\"\"Returns indices of match as CLOSED interval\"\"\"\n",
    "    match = re.search(r, s)\n",
    "    return None if match is None else [match.span()[0], match.span()[1]-1]"
   ]
  },
  {
   "cell_type": "markdown",
   "metadata": {
    "slideshow": {
     "slide_type": "slide"
    }
   },
   "source": [
    "## Question 3\n",
    "For each pattern specify the starting and ending position of the first match in the string. The index starts at zero and we are using closed intervals (both endpoints are included).\n",
    "\n",
    "|    .      | abcdefg | abcs! | ab abc | abc, 123 |\n",
    "|-----------|---------|-------|--------|----------|\n",
    "| abc*      | [0,2]   |   .   |    .   |    .     |\n",
    "| [^\\s]+    |    .    |   .   |    .   |    .     |\n",
    "| ab.* c    |    .    |   .   |    .   |    .     |\n",
    "| [a-z1,9]+ |    .    |   .   |    .   |    .     |\n",
    "\n",
    "Note: Try using the <https://regex101.com/> tool to understand more about regular expressions!"
   ]
  },
  {
   "cell_type": "code",
   "execution_count": 88,
   "metadata": {
    "slideshow": {
     "slide_type": "fragment"
    }
   },
   "outputs": [],
   "source": [
    "q3_strings = ['abcdefg', 'abcs!', 'ab abc', 'abc, 123']\n",
    "q3_regexes = ['abc*', '[^\\s]+', 'ab.*c', '[a-z1,9]+']"
   ]
  },
  {
   "cell_type": "code",
   "execution_count": 89,
   "metadata": {},
   "outputs": [
    {
     "data": {
      "text/html": [
       "<div>\n",
       "<style scoped>\n",
       "    .dataframe tbody tr th:only-of-type {\n",
       "        vertical-align: middle;\n",
       "    }\n",
       "\n",
       "    .dataframe tbody tr th {\n",
       "        vertical-align: top;\n",
       "    }\n",
       "\n",
       "    .dataframe thead th {\n",
       "        text-align: right;\n",
       "    }\n",
       "</style>\n",
       "<table border=\"1\" class=\"dataframe\">\n",
       "  <thead>\n",
       "    <tr style=\"text-align: right;\">\n",
       "      <th></th>\n",
       "      <th>abcdefg</th>\n",
       "      <th>abcs!</th>\n",
       "      <th>ab abc</th>\n",
       "      <th>abc, 123</th>\n",
       "    </tr>\n",
       "  </thead>\n",
       "  <tbody>\n",
       "    <tr>\n",
       "      <th>abc*</th>\n",
       "      <td>[0, 2]</td>\n",
       "      <td>[0, 2]</td>\n",
       "      <td>[0, 1]</td>\n",
       "      <td>[0, 2]</td>\n",
       "    </tr>\n",
       "    <tr>\n",
       "      <th>[^\\s]+</th>\n",
       "      <td>[0, 6]</td>\n",
       "      <td>[0, 4]</td>\n",
       "      <td>[0, 1]</td>\n",
       "      <td>[0, 3]</td>\n",
       "    </tr>\n",
       "    <tr>\n",
       "      <th>ab.*c</th>\n",
       "      <td>[0, 2]</td>\n",
       "      <td>[0, 2]</td>\n",
       "      <td>[0, 5]</td>\n",
       "      <td>[0, 2]</td>\n",
       "    </tr>\n",
       "    <tr>\n",
       "      <th>[a-z1,9]+</th>\n",
       "      <td>[0, 6]</td>\n",
       "      <td>[0, 3]</td>\n",
       "      <td>[0, 1]</td>\n",
       "      <td>[0, 3]</td>\n",
       "    </tr>\n",
       "  </tbody>\n",
       "</table>\n",
       "</div>"
      ],
      "text/plain": [
       "          abcdefg   abcs!  ab abc abc, 123\n",
       "abc*       [0, 2]  [0, 2]  [0, 1]   [0, 2]\n",
       "[^\\s]+     [0, 6]  [0, 4]  [0, 1]   [0, 3]\n",
       "ab.*c      [0, 2]  [0, 2]  [0, 5]   [0, 2]\n",
       "[a-z1,9]+  [0, 6]  [0, 3]  [0, 1]   [0, 3]"
      ]
     },
     "execution_count": 89,
     "metadata": {},
     "output_type": "execute_result"
    }
   ],
   "source": [
    "q3_data = [[get_indices(s, r) for s in q3_strings] for r in q3_regexes]\n",
    "pd.DataFrame( \n",
    "    q3_data,\n",
    "    columns = q3_strings,\n",
    "    index = q3_regexes\n",
    ")"
   ]
  },
  {
   "cell_type": "markdown",
   "metadata": {
    "slideshow": {
     "slide_type": "slide"
    }
   },
   "source": [
    "## Question 4\n",
    "\n",
    "Given the text in the cell below, \n",
    "    \n",
    "Which of the following matches exactly to the email addresses (including angle brackets)?"
   ]
  },
  {
   "cell_type": "code",
   "execution_count": 91,
   "metadata": {
    "slideshow": {
     "slide_type": "fragment"
    }
   },
   "outputs": [],
   "source": [
    "q4_records = [\n",
    "    '<record> Josh Hug <hug@cs.berkeley.edu> Faculty </record>',\n",
    "    '<record> Manana Hakobyan <manana.hakobyan@berkeley.eud> TA </record>'\n",
    "]\n",
    "q4_regexes = [r'<.*@.*>', r'<[^<]*@[^>]*>', r'<.*@\\w+\\..*>']"
   ]
  },
  {
   "cell_type": "code",
   "execution_count": 92,
   "metadata": {},
   "outputs": [
    {
     "data": {
      "text/plain": [
       "[[<_sre.SRE_Match object; span=(0, 57), match='<record> Josh Hug <hug@cs.berkeley.edu> Faculty <>,\n",
       "  <_sre.SRE_Match object; span=(0, 68), match='<record> Manana Hakobyan <manana.hakobyan@berkele>],\n",
       " [<_sre.SRE_Match object; span=(18, 39), match='<hug@cs.berkeley.edu>'>,\n",
       "  <_sre.SRE_Match object; span=(25, 55), match='<manana.hakobyan@berkeley.eud>'>],\n",
       " [<_sre.SRE_Match object; span=(0, 57), match='<record> Josh Hug <hug@cs.berkeley.edu> Faculty <>,\n",
       "  <_sre.SRE_Match object; span=(0, 68), match='<record> Manana Hakobyan <manana.hakobyan@berkele>]]"
      ]
     },
     "execution_count": 92,
     "metadata": {},
     "output_type": "execute_result"
    }
   ],
   "source": [
    "[find_matches(q4_records, r) for r in q4_regexes]"
   ]
  },
  {
   "cell_type": "code",
   "execution_count": 93,
   "metadata": {},
   "outputs": [
    {
     "data": {
      "text/plain": [
       "[<_sre.SRE_Match object; span=(18, 39), match='<hug@cs.berkeley.edu>'>,\n",
       " <_sre.SRE_Match object; span=(25, 55), match='<manana.hakobyan@berkeley.eud>'>]"
      ]
     },
     "execution_count": 93,
     "metadata": {},
     "output_type": "execute_result"
    }
   ],
   "source": [
    "find_matches(q4_records, q4_regexes[1])"
   ]
  },
  {
   "cell_type": "markdown",
   "metadata": {
    "slideshow": {
     "slide_type": "slide"
    }
   },
   "source": [
    "## Question 5\n",
    "\n",
    "Write a regular expression that matches strings that contain exactly 5 vowels.\n",
    "\n",
    "Remember: \n",
    "- `^` matches the position at the beginning of a string (unless used for negation as in \"[^]\").\n",
    "- `*` matches the preceding literal or sub-expression zero or more times.\n",
    "- `[ ]` matches any one of the characters inside of the brackets.\n",
    "- `{ }` indicates the {minimum, maximum} number of matches.\n",
    "- `$` matches the position at the end of a string.\n",
    "\n"
   ]
  },
  {
   "cell_type": "code",
   "execution_count": 94,
   "metadata": {
    "slideshow": {
     "slide_type": "fragment"
    }
   },
   "outputs": [
    {
     "data": {
      "text/plain": [
       "[None,\n",
       " None,\n",
       " <_sre.SRE_Match object; span=(0, 14), match='go uc berkeley'>,\n",
       " <_sre.SRE_Match object; span=(0, 14), match='GO UC Berkeley'>,\n",
       " <_sre.SRE_Match object; span=(0, 14), match='vowels are fun'>,\n",
       " None]"
      ]
     },
     "execution_count": 94,
     "metadata": {},
     "output_type": "execute_result"
    }
   ],
   "source": [
    "q5_regex = r'^([^aeiouAEIOU]*[aeiouAEIOU]){5}[^aeiouAEIOU]*$'\n",
    "q5_string = ['fabulous', 'berkeley', 'go uc berkeley', 'GO UC Berkeley', 'vowels are fun', 'vowels are great']\n",
    "find_matches(q5_string, q5_regex)"
   ]
  },
  {
   "cell_type": "markdown",
   "metadata": {
    "slideshow": {
     "slide_type": "slide"
    }
   },
   "source": [
    "## Question 6\n",
    "\n",
    "Given that `sometext` is a string, use `re.sub` to replace all clusters of non-vowel characters with a single period. For example `a big moon, between us...` would be changed to `a.i.oo.e.ee.u.`."
   ]
  },
  {
   "cell_type": "code",
   "execution_count": 96,
   "metadata": {
    "slideshow": {
     "slide_type": "fragment"
    }
   },
   "outputs": [
    {
     "data": {
      "text/plain": [
       "'a.i.oo.e.ee.u.'"
      ]
     },
     "execution_count": 96,
     "metadata": {},
     "output_type": "execute_result"
    }
   ],
   "source": [
    "q6_string = \"a big moon, between us...\"\n",
    "q6_regex = r\"[^[^aeoiuAEIOU]+\"\n",
    "re.sub(q6_regex, \".\", q6_string)"
   ]
  },
  {
   "cell_type": "markdown",
   "metadata": {
    "slideshow": {
     "slide_type": "slide"
    }
   },
   "source": [
    "## Question 7\n",
    "\n",
    "Given the following text in variable `log`:\n",
    "\n",
    "Fill in the regular expression in the variable `pattern` below so that after it executes, day is 26, month is Jan, and year is 2014."
   ]
  },
  {
   "cell_type": "code",
   "execution_count": 97,
   "metadata": {
    "slideshow": {
     "slide_type": "fragment"
    }
   },
   "outputs": [
    {
     "data": {
      "text/plain": [
       "['26', 'Jan', '2014']"
      ]
     },
     "execution_count": 97,
     "metadata": {},
     "output_type": "execute_result"
    }
   ],
   "source": [
    "log = '169.237.46.168 - - [26/Jan/2014:10:47:58 -0800] \"GET /stat141/Winter04/ HTTP/1.1\" 200 2585 \"http://anson.ucdavis.edu/courses/\"'\n",
    "pattern = r\"\\[(.+)\\/(.+)\\/([^:]+).*\\]\"\n",
    "matches = re.findall(pattern, log)\n",
    "day, month, year = matches[0]\n",
    "[day, month, year]"
   ]
  },
  {
   "cell_type": "markdown",
   "metadata": {
    "slideshow": {
     "slide_type": "slide"
    }
   },
   "source": [
    "## Question 8\n",
    "\n",
    "Which strings contain a match for the following regular expression, \"1+1$\"?\n",
    "\n",
    "Remember: \"+\" matches preceding literal or sub-expression *one* or more times and \"$\" matches the position at the end of a string."
   ]
  },
  {
   "cell_type": "code",
   "execution_count": null,
   "metadata": {
    "slideshow": {
     "slide_type": "fragment"
    }
   },
   "outputs": [],
   "source": [
    "q8_texts = ['What is 1+1?', 'Make a wish at 11:11', '111 Ways to Succeed']\n",
    "q8_regex = r'1+1$'\n",
    "find_matches(q8_texts, q8_regex)"
   ]
  },
  {
   "cell_type": "markdown",
   "metadata": {
    "slideshow": {
     "slide_type": "slide"
    }
   },
   "source": [
    "## Question 9\n",
    "\n",
    "Write a regular expression that matches strings (including the empty strings) that only contain lowercase letters and numbers."
   ]
  },
  {
   "cell_type": "code",
   "execution_count": null,
   "metadata": {
    "slideshow": {
     "slide_type": "fragment"
    }
   },
   "outputs": [],
   "source": [
    "q9_regex = '^[a-z0-9]*$'\n",
    "q9_string = ['adsf04RTS!','asdfa342','RA43','adsfa!']\n",
    "find_matches(q9_string, q9_regex)"
   ]
  },
  {
   "cell_type": "markdown",
   "metadata": {
    "slideshow": {
     "slide_type": "slide"
    }
   },
   "source": [
    "## Question 10\n",
    "\n",
    "Given that `address` is a string, use `re.sub` to replace all vowels with a lowercase letter \"o\". For example \"123 Orange Street\" would be changed to \"123 orango Stroot\"."
   ]
  },
  {
   "cell_type": "code",
   "execution_count": null,
   "metadata": {
    "slideshow": {
     "slide_type": "fragment"
    }
   },
   "outputs": [],
   "source": [
    "address = \"123 Orange Street\"\n",
    "q10_regex = r\"[aeiouAEIOU]\"\n",
    "re.sub(q10_regex, \"o\", address)"
   ]
  },
  {
   "cell_type": "markdown",
   "metadata": {
    "slideshow": {
     "slide_type": "slide"
    }
   },
   "source": [
    "## Question 11\n",
    "\n",
    "Given `sometext = \"I've got 10 eggs, 20 gooses, and 30 giants.\"`, use `re.findall` to extract all the items and quantities from the string. The result should look like `['10 eggs', '20 gooses', '30 giants']`. You may assume that a space separates quantity and type, and that each item ends in s."
   ]
  },
  {
   "cell_type": "code",
   "execution_count": null,
   "metadata": {
    "slideshow": {
     "slide_type": "fragment"
    }
   },
   "outputs": [],
   "source": [
    "q11_sometext = \"I've got 10 eggs, 20 gooses, and 30 giants.\"\n",
    "q11_regex = r\"\\d\\d\\s\\w+s\"\n",
    "re.findall(q11_regex, q11_sometext)"
   ]
  },
  {
   "cell_type": "markdown",
   "metadata": {},
   "source": [
    " "
   ]
  }
 ],
 "metadata": {
  "celltoolbar": "Slideshow",
  "kernelspec": {
   "display_name": "Python 3",
   "language": "python",
   "name": "python3"
  },
  "language_info": {
   "codemirror_mode": {
    "name": "ipython",
    "version": 3
   },
   "file_extension": ".py",
   "mimetype": "text/x-python",
   "name": "python",
   "nbconvert_exporter": "python",
   "pygments_lexer": "ipython3",
   "version": "3.6.5"
  },
  "varInspector": {
   "cols": {
    "lenName": 16,
    "lenType": 16,
    "lenVar": 40
   },
   "kernels_config": {
    "python": {
     "delete_cmd_postfix": "",
     "delete_cmd_prefix": "del ",
     "library": "var_list.py",
     "varRefreshCmd": "print(var_dic_list())"
    },
    "r": {
     "delete_cmd_postfix": ") ",
     "delete_cmd_prefix": "rm(",
     "library": "var_list.r",
     "varRefreshCmd": "cat(var_dic_list()) "
    }
   },
   "types_to_exclude": [
    "module",
    "function",
    "builtin_function_or_method",
    "instance",
    "_Feature"
   ],
   "window_display": false
  }
 },
 "nbformat": 4,
 "nbformat_minor": 4
}
